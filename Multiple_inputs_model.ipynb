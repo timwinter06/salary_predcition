{
 "cells": [
  {
   "cell_type": "code",
   "execution_count": 4,
   "id": "nasty-beatles",
   "metadata": {},
   "outputs": [
    {
     "name": "stderr",
     "output_type": "stream",
     "text": [
      "Using TensorFlow backend.\n"
     ]
    }
   ],
   "source": [
    "# imports\n",
    "import pandas as pd\n",
    "import numpy as np\n",
    "import matplotlib.pyplot as plt\n",
    "from google.cloud import storage\n",
    "import nltk\n",
    "from nltk.tokenize import RegexpTokenizer\n",
    "\n",
    "from sklearn.preprocessing import OneHotEncoder\n",
    "from sklearn.model_selection import train_test_split\n",
    "import tensorflow as tf\n",
    "from tensorflow.keras.preprocessing.text import Tokenizer\n",
    "from tensorflow import keras\n",
    "from tensorflow.keras import layers\n",
    "from tensorflow.keras.callbacks import EarlyStopping\n",
    "\n",
    "from keras.layers import Dense\n",
    "from keras.layers.convolutional import Conv1D\n",
    "from keras.layers.convolutional import MaxPooling1D\n",
    "from keras import layers\n",
    "from keras import Model\n",
    "from keras import Sequential\n",
    "from keras import Input\n",
    "\n",
    "import functions_14 as fn\n",
    "\n",
    "%matplotlib inline"
   ]
  },
  {
   "cell_type": "markdown",
   "id": "nutritional-conservative",
   "metadata": {},
   "source": [
    "# Use multiple features for ML model"
   ]
  },
  {
   "cell_type": "markdown",
   "id": "behavioral-majority",
   "metadata": {},
   "source": [
    "## First prep the feature data"
   ]
  },
  {
   "cell_type": "code",
   "execution_count": 5,
   "id": "abstract-horizontal",
   "metadata": {},
   "outputs": [],
   "source": [
    "# Load data\n",
    "BUCKET_NAME = 'salary-data'\n",
    "client = storage.Client()\n",
    "bucket = client.get_bucket(BUCKET_NAME)\n",
    "df_train = pd.read_csv('gs://{}/{}'.format(BUCKET_NAME,'data_location_buckets.csv'))"
   ]
  },
  {
   "cell_type": "code",
   "execution_count": 6,
   "id": "optical-anger",
   "metadata": {},
   "outputs": [
    {
     "data": {
      "text/plain": [
       "Index(['Unnamed: 0', 'Id', 'Title', 'FullDescription', 'LocationRaw',\n",
       "       'LocationNormalized', 'ContractType', 'ContractTime', 'Company',\n",
       "       'Category', 'SalaryRaw', 'SalaryNormalized', 'SourceName',\n",
       "       'TTWA_County'],\n",
       "      dtype='object')"
      ]
     },
     "execution_count": 6,
     "metadata": {},
     "output_type": "execute_result"
    }
   ],
   "source": [
    "df_train.columns"
   ]
  },
  {
   "cell_type": "code",
   "execution_count": 7,
   "id": "fitted-impression",
   "metadata": {},
   "outputs": [
    {
     "name": "stderr",
     "output_type": "stream",
     "text": [
      "/opt/conda/lib/python3.7/site-packages/pandas/core/generic.py:5491: SettingWithCopyWarning: \n",
      "A value is trying to be set on a copy of a slice from a DataFrame.\n",
      "Try using .loc[row_indexer,col_indexer] = value instead\n",
      "\n",
      "See the caveats in the documentation: https://pandas.pydata.org/pandas-docs/stable/user_guide/indexing.html#returning-a-view-versus-a-copy\n",
      "  self[name] = value\n"
     ]
    }
   ],
   "source": [
    "df_sub = df_train[['Title', 'FullDescription','ContractType', 'ContractTime', 'Company',\n",
    "       'Category', 'TTWA_County','SalaryNormalized']]\n",
    "df_sub.ContractType = df_sub.ContractType.fillna('Missing')\n",
    "df_sub.ContractTime = df_sub.ContractTime.fillna('Missing')\n",
    "df_sub.Company = df_sub.Company.fillna('Missing')\n",
    "# Drop other NaN values\n",
    "df_sub = df_sub.dropna()"
   ]
  },
  {
   "cell_type": "code",
   "execution_count": 8,
   "id": "liberal-tunisia",
   "metadata": {},
   "outputs": [
    {
     "data": {
      "text/plain": [
       "Index(['Title', 'FullDescription', 'ContractType', 'ContractTime', 'Company',\n",
       "       'Category', 'TTWA_County', 'SalaryNormalized'],\n",
       "      dtype='object')"
      ]
     },
     "execution_count": 8,
     "metadata": {},
     "output_type": "execute_result"
    }
   ],
   "source": [
    "df_sub.columns"
   ]
  },
  {
   "cell_type": "markdown",
   "id": "advanced-composer",
   "metadata": {},
   "source": [
    "## NLP of Description"
   ]
  },
  {
   "cell_type": "code",
   "execution_count": 9,
   "id": "commercial-christian",
   "metadata": {},
   "outputs": [],
   "source": [
    "X_words = fn.first_NLP(df_sub)\n",
    "tokenizer = Tokenizer()\n",
    "tokenizer.fit_on_texts(X_words)\n",
    "word_dictionary = tokenizer.word_index\n",
    "size_of_vocabulary=len(tokenizer.word_index) + 1 #+1 for padding\n",
    "X_words_seq = tokenizer.texts_to_sequences(X_words)\n",
    "\n",
    "lengths = []\n",
    "for x in X_words_seq:\n",
    "    lengths.append(len(x))\n",
    "max_length = max(lengths)\n",
    "\n",
    "X_words_padded = tf.keras.preprocessing.sequence.pad_sequences(X_words_seq,maxlen=max_length, padding='post')"
   ]
  },
  {
   "cell_type": "code",
   "execution_count": 10,
   "id": "least-damage",
   "metadata": {},
   "outputs": [
    {
     "data": {
      "text/plain": [
       "(195896, 1267)"
      ]
     },
     "execution_count": 10,
     "metadata": {},
     "output_type": "execute_result"
    }
   ],
   "source": [
    "X_words_padded.shape"
   ]
  },
  {
   "cell_type": "markdown",
   "id": "fantastic-patrol",
   "metadata": {},
   "source": [
    "## Hot encode location"
   ]
  },
  {
   "cell_type": "code",
   "execution_count": 11,
   "id": "portuguese-broad",
   "metadata": {},
   "outputs": [],
   "source": [
    "enc = OneHotEncoder()\n",
    "X_location = df_sub.TTWA_County.values\n",
    "X_location = enc.fit_transform(X_location.reshape(-1, 1))"
   ]
  },
  {
   "cell_type": "markdown",
   "id": "tested-slovak",
   "metadata": {},
   "source": [
    "## Create train/test split"
   ]
  },
  {
   "cell_type": "code",
   "execution_count": 12,
   "id": "circular-breath",
   "metadata": {},
   "outputs": [],
   "source": [
    "y = df_sub.SalaryNormalized"
   ]
  },
  {
   "cell_type": "code",
   "execution_count": 13,
   "id": "controversial-deposit",
   "metadata": {},
   "outputs": [],
   "source": [
    "X_train_full, X_test, y_train_full, y_test1 = train_test_split( X_words_padded, y, test_size=0.2, random_state=42)\n",
    "\n",
    "X_train_words, X_val_words, y_train, y_val = train_test_split( X_train_full, y_train_full, test_size=0.2, random_state=42)"
   ]
  },
  {
   "cell_type": "code",
   "execution_count": 14,
   "id": "wireless-fantasy",
   "metadata": {},
   "outputs": [],
   "source": [
    "X_train_full, X_test, y_train_full, y_test2 = train_test_split( X_location, y, test_size=0.2, random_state=42)\n",
    "\n",
    "X_train_location, X_val_location, y_train, y_val = train_test_split( X_train_full, y_train_full, test_size=0.2, random_state=42)"
   ]
  },
  {
   "cell_type": "markdown",
   "id": "competitive-spoke",
   "metadata": {},
   "source": [
    "## Build functional Model with multiple inputs"
   ]
  },
  {
   "cell_type": "code",
   "execution_count": 15,
   "id": "latest-feature",
   "metadata": {},
   "outputs": [],
   "source": [
    "from keras.layers import Embedding, Flatten, concatenate"
   ]
  },
  {
   "cell_type": "code",
   "execution_count": 3,
   "id": "opposed-relevance",
   "metadata": {},
   "outputs": [
    {
     "ename": "NameError",
     "evalue": "name 'Input' is not defined",
     "output_type": "error",
     "traceback": [
      "\u001b[0;31m---------------------------------------------------------------------------\u001b[0m",
      "\u001b[0;31mNameError\u001b[0m                                 Traceback (most recent call last)",
      "\u001b[0;32m<ipython-input-3-a1eb10bb1f90>\u001b[0m in \u001b[0;36m<module>\u001b[0;34m\u001b[0m\n\u001b[0;32m----> 1\u001b[0;31m \u001b[0mInput_embed\u001b[0m \u001b[0;34m=\u001b[0m \u001b[0mInput\u001b[0m\u001b[0;34m(\u001b[0m\u001b[0mshape\u001b[0m \u001b[0;34m=\u001b[0m \u001b[0;34m(\u001b[0m\u001b[0mX_train_words\u001b[0m\u001b[0;34m.\u001b[0m\u001b[0mshape\u001b[0m\u001b[0;34m[\u001b[0m\u001b[0;36m1\u001b[0m\u001b[0;34m]\u001b[0m\u001b[0;34m,\u001b[0m\u001b[0;34m)\u001b[0m\u001b[0;34m)\u001b[0m\u001b[0;34m\u001b[0m\u001b[0;34m\u001b[0m\u001b[0m\n\u001b[0m\u001b[1;32m      2\u001b[0m \u001b[0mInput_location\u001b[0m \u001b[0;34m=\u001b[0m \u001b[0mInput\u001b[0m\u001b[0;34m(\u001b[0m\u001b[0mshape\u001b[0m \u001b[0;34m=\u001b[0m \u001b[0;34m(\u001b[0m\u001b[0mX_train_location\u001b[0m\u001b[0;34m.\u001b[0m\u001b[0mshape\u001b[0m\u001b[0;34m[\u001b[0m\u001b[0;36m1\u001b[0m\u001b[0;34m]\u001b[0m\u001b[0;34m,\u001b[0m\u001b[0;34m)\u001b[0m\u001b[0;34m)\u001b[0m\u001b[0;34m\u001b[0m\u001b[0;34m\u001b[0m\u001b[0m\n\u001b[1;32m      3\u001b[0m \u001b[0;34m\u001b[0m\u001b[0m\n\u001b[1;32m      4\u001b[0m \u001b[0;31m# First build the Embedding branch\u001b[0m\u001b[0;34m\u001b[0m\u001b[0;34m\u001b[0m\u001b[0;34m\u001b[0m\u001b[0m\n\u001b[1;32m      5\u001b[0m \u001b[0;34m\u001b[0m\u001b[0m\n",
      "\u001b[0;31mNameError\u001b[0m: name 'Input' is not defined"
     ]
    }
   ],
   "source": [
    "Input_embed = Input(shape = (X_train_words.shape[1],))\n",
    "Input_location = Input(shape = (X_train_location.shape[1],))\n",
    "\n",
    "# First build the Embedding branch\n",
    "\n",
    "x = Embedding(size_of_vocabulary, 25,  input_length=max_length)(Input_embed)\n",
    "x = Conv1D(filters=100, kernel_size=5, activation='relu')(x)\n",
    "x = MaxPooling1D(pool_size=2)(x)\n",
    "x = Flatten()(x)\n",
    "x = Dense(30, activation = 'relu')(x)\n",
    "x = Model(inputs = Input_embed, outputs = x)\n",
    "\n",
    "# Build the location branch\n",
    "\n",
    "y = Dense(10, activation='relu')(Input_location)\n",
    "y = Dense(1, activation='linear')(y)\n",
    "y = Model(inputs = Input_location, outputs = y)\n",
    "\n",
    "# Combine the models\n",
    "\n",
    "combined = concatenate([x.output, y.output])\n",
    "\n",
    "z = Dense(2, activation=\"relu\")(combined)\n",
    "z = Dense(1, activation=\"linear\")(z)\n",
    "\n",
    "model = Model(inputs=[x.input, y.input], outputs=z)"
   ]
  },
  {
   "cell_type": "code",
   "execution_count": null,
   "id": "foreign-breeding",
   "metadata": {},
   "outputs": [],
   "source": []
  },
  {
   "cell_type": "code",
   "execution_count": 2,
   "id": "thorough-failing",
   "metadata": {},
   "outputs": [
    {
     "ename": "NameError",
     "evalue": "name 'model' is not defined",
     "output_type": "error",
     "traceback": [
      "\u001b[0;31m---------------------------------------------------------------------------\u001b[0m",
      "\u001b[0;31mNameError\u001b[0m                                 Traceback (most recent call last)",
      "\u001b[0;32m<ipython-input-2-da76aecccf26>\u001b[0m in \u001b[0;36m<module>\u001b[0;34m\u001b[0m\n\u001b[0;32m----> 1\u001b[0;31m \u001b[0mmodel\u001b[0m\u001b[0;34m.\u001b[0m\u001b[0mcompile\u001b[0m\u001b[0;34m(\u001b[0m\u001b[0mloss\u001b[0m\u001b[0;34m=\u001b[0m\u001b[0;34m\"mean_squared_error\"\u001b[0m\u001b[0;34m,\u001b[0m \u001b[0moptimizer\u001b[0m\u001b[0;34m=\u001b[0m\u001b[0;34m'Adam'\u001b[0m\u001b[0;34m)\u001b[0m\u001b[0;34m\u001b[0m\u001b[0;34m\u001b[0m\u001b[0m\n\u001b[0m\u001b[1;32m      2\u001b[0m \u001b[0;34m\u001b[0m\u001b[0m\n\u001b[1;32m      3\u001b[0m model.fit(\n\u001b[1;32m      4\u001b[0m     \u001b[0;34m[\u001b[0m\u001b[0mX_train_words\u001b[0m\u001b[0;34m,\u001b[0m \u001b[0mX_train_location\u001b[0m\u001b[0;34m.\u001b[0m\u001b[0mtodense\u001b[0m\u001b[0;34m(\u001b[0m\u001b[0;34m)\u001b[0m\u001b[0;34m]\u001b[0m\u001b[0;34m,\u001b[0m \u001b[0my_train\u001b[0m\u001b[0;34m,\u001b[0m\u001b[0;34m\u001b[0m\u001b[0;34m\u001b[0m\u001b[0m\n\u001b[1;32m      5\u001b[0m     \u001b[0mvalidation_data\u001b[0m\u001b[0;34m=\u001b[0m\u001b[0;34m(\u001b[0m\u001b[0;34m[\u001b[0m\u001b[0mX_val_words\u001b[0m\u001b[0;34m,\u001b[0m \u001b[0mX_val_location\u001b[0m\u001b[0;34m.\u001b[0m\u001b[0mtodense\u001b[0m\u001b[0;34m(\u001b[0m\u001b[0;34m)\u001b[0m\u001b[0;34m]\u001b[0m\u001b[0;34m,\u001b[0m \u001b[0my_val\u001b[0m\u001b[0;34m)\u001b[0m\u001b[0;34m,\u001b[0m\u001b[0;34m\u001b[0m\u001b[0;34m\u001b[0m\u001b[0m\n",
      "\u001b[0;31mNameError\u001b[0m: name 'model' is not defined"
     ]
    }
   ],
   "source": [
    "model.compile(loss=\"mean_squared_error\", optimizer='Adam')\n",
    "\n",
    "model.fit(\n",
    "    [X_train_words, X_train_location.todense()], y_train,\n",
    "    validation_data=([X_val_words, X_val_location.todense()], y_val),\n",
    "    epochs=2, batch_size=64)"
   ]
  },
  {
   "cell_type": "code",
   "execution_count": null,
   "id": "absent-schema",
   "metadata": {},
   "outputs": [],
   "source": []
  },
  {
   "cell_type": "code",
   "execution_count": null,
   "id": "civilian-chess",
   "metadata": {},
   "outputs": [],
   "source": []
  },
  {
   "cell_type": "code",
   "execution_count": null,
   "id": "streaming-mining",
   "metadata": {},
   "outputs": [],
   "source": []
  }
 ],
 "metadata": {
  "environment": {
   "name": "tf2-gpu.2-3.mnightly-2021-01-20-debian-10-test",
   "type": "gcloud",
   "uri": "gcr.io/deeplearning-platform-release/tf2-gpu.2-3:mnightly-2021-01-20-debian-10-test"
  },
  "kernelspec": {
   "display_name": "Python 3",
   "language": "python",
   "name": "python3"
  },
  "language_info": {
   "codemirror_mode": {
    "name": "ipython",
    "version": 3
   },
   "file_extension": ".py",
   "mimetype": "text/x-python",
   "name": "python",
   "nbconvert_exporter": "python",
   "pygments_lexer": "ipython3",
   "version": "3.7.9"
  }
 },
 "nbformat": 4,
 "nbformat_minor": 5
}
