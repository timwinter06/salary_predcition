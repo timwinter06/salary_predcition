{
 "cells": [
  {
   "cell_type": "code",
   "execution_count": 1,
   "id": "unnecessary-tonight",
   "metadata": {},
   "outputs": [
    {
     "name": "stderr",
     "output_type": "stream",
     "text": [
      "Using TensorFlow backend.\n"
     ]
    }
   ],
   "source": [
    "# imports\n",
    "import pandas as pd\n",
    "import numpy as np\n",
    "import matplotlib.pyplot as plt\n",
    "from google.cloud import storage\n",
    "import nltk\n",
    "from nltk.tokenize import RegexpTokenizer\n",
    "\n",
    "from sklearn.preprocessing import OneHotEncoder\n",
    "from sklearn.model_selection import train_test_split\n",
    "import tensorflow as tf\n",
    "from tensorflow.keras.preprocessing.text import Tokenizer\n",
    "from tensorflow import keras\n",
    "from tensorflow.keras import layers\n",
    "from tensorflow.keras.callbacks import EarlyStopping\n",
    "\n",
    "from keras.layers import Dense\n",
    "from keras.layers.convolutional import Conv1D\n",
    "from keras.layers.convolutional import MaxPooling1D\n",
    "from keras import layers\n",
    "from keras import Model\n",
    "from keras import Sequential\n",
    "from keras import Input\n",
    "\n",
    "import functions_14 as fn\n",
    "\n",
    "%matplotlib inline"
   ]
  },
  {
   "cell_type": "markdown",
   "id": "social-learning",
   "metadata": {},
   "source": [
    "# Use multiple features for ML model"
   ]
  },
  {
   "cell_type": "markdown",
   "id": "handmade-portuguese",
   "metadata": {},
   "source": [
    "## First prep the feature data"
   ]
  },
  {
   "cell_type": "code",
   "execution_count": 2,
   "id": "white-creation",
   "metadata": {},
   "outputs": [],
   "source": [
    "# Load data\n",
    "BUCKET_NAME = 'salary-data'\n",
    "client = storage.Client()\n",
    "bucket = client.get_bucket(BUCKET_NAME)\n",
    "df_train = pd.read_csv('gs://{}/{}'.format(BUCKET_NAME,'data_location_buckets.csv'))"
   ]
  },
  {
   "cell_type": "code",
   "execution_count": 3,
   "id": "ready-festival",
   "metadata": {},
   "outputs": [],
   "source": [
    "#df_train.columns"
   ]
  },
  {
   "cell_type": "code",
   "execution_count": 4,
   "id": "congressional-stress",
   "metadata": {},
   "outputs": [
    {
     "name": "stderr",
     "output_type": "stream",
     "text": [
      "/opt/conda/lib/python3.7/site-packages/pandas/core/generic.py:5491: SettingWithCopyWarning: \n",
      "A value is trying to be set on a copy of a slice from a DataFrame.\n",
      "Try using .loc[row_indexer,col_indexer] = value instead\n",
      "\n",
      "See the caveats in the documentation: https://pandas.pydata.org/pandas-docs/stable/user_guide/indexing.html#returning-a-view-versus-a-copy\n",
      "  self[name] = value\n"
     ]
    }
   ],
   "source": [
    "df_sub = df_train[['Title', 'FullDescription','ContractType', 'ContractTime', 'Company',\n",
    "       'Category', 'TTWA_County','SalaryNormalized']]\n",
    "df_sub.ContractType = df_sub.ContractType.fillna('Missing')\n",
    "df_sub.ContractTime = df_sub.ContractTime.fillna('Missing')\n",
    "df_sub.Company = df_sub.Company.fillna('Missing')\n",
    "# Drop other NaN values\n",
    "df_sub = df_sub.dropna()"
   ]
  },
  {
   "cell_type": "code",
   "execution_count": 5,
   "id": "growing-arrest",
   "metadata": {},
   "outputs": [],
   "source": []
  },
  {
   "cell_type": "markdown",
   "id": "registered-phone",
   "metadata": {},
   "source": [
    "## NLP of Description"
   ]
  },
  {
   "cell_type": "code",
   "execution_count": 6,
   "id": "hundred-musician",
   "metadata": {},
   "outputs": [],
   "source": [
    "X_words = fn.first_NLP(df_sub)\n",
    "tokenizer = Tokenizer()\n",
    "tokenizer.fit_on_texts(X_words)\n",
    "word_dictionary = tokenizer.word_index\n",
    "size_of_vocabulary=len(tokenizer.word_index) + 1 #+1 for padding\n",
    "X_words_seq = tokenizer.texts_to_sequences(X_words)\n",
    "\n",
    "lengths = []\n",
    "for x in X_words_seq:\n",
    "    lengths.append(len(x))\n",
    "max_length = max(lengths)\n",
    "\n",
    "X_words_padded = tf.keras.preprocessing.sequence.pad_sequences(X_words_seq,maxlen=max_length, padding='post')"
   ]
  },
  {
   "cell_type": "code",
   "execution_count": 7,
   "id": "endangered-leather",
   "metadata": {},
   "outputs": [
    {
     "data": {
      "text/plain": [
       "(195896, 1267)"
      ]
     },
     "execution_count": 7,
     "metadata": {},
     "output_type": "execute_result"
    }
   ],
   "source": [
    "X_words_padded.shape"
   ]
  },
  {
   "cell_type": "markdown",
   "id": "diverse-tiffany",
   "metadata": {},
   "source": [
    "## Hot encode features"
   ]
  },
  {
   "cell_type": "code",
   "execution_count": 32,
   "id": "piano-moderator",
   "metadata": {},
   "outputs": [],
   "source": [
    "def hot_encode(df_variable):\n",
    "    enc = OneHotEncoder()\n",
    "    X = df_variable.values\n",
    "    X = enc.fit_transform(X.reshape(-1, 1))\n",
    "    return X"
   ]
  },
  {
   "cell_type": "code",
   "execution_count": 33,
   "id": "sophisticated-labor",
   "metadata": {},
   "outputs": [],
   "source": [
    "X_location = hot_encode(df_sub.TTWA_County)\n",
    "X_contract_type = hot_encode(df_sub.ContractType)\n",
    "X_contract_time = hot_encode(df_sub.ContractTime)\n",
    "X_category = hot_encode(df_sub.Category) \n",
    "X_company = hot_encode(df_sub.Company) # Too big"
   ]
  },
  {
   "cell_type": "code",
   "execution_count": 57,
   "id": "returning-smith",
   "metadata": {},
   "outputs": [],
   "source": [
    "# Concatenate location, contract, and category\n",
    "from scipy.sparse import hstack\n",
    "X_one_hot = hstack((X_location,X_contract_type,X_contract_time,X_category))\n"
   ]
  },
  {
   "cell_type": "code",
   "execution_count": null,
   "id": "cheap-printer",
   "metadata": {},
   "outputs": [],
   "source": []
  },
  {
   "cell_type": "code",
   "execution_count": 59,
   "id": "surprising-cancellation",
   "metadata": {},
   "outputs": [],
   "source": [
    "X_location = X_one_hot"
   ]
  },
  {
   "cell_type": "markdown",
   "id": "concerned-justice",
   "metadata": {},
   "source": [
    "## Create train/test split"
   ]
  },
  {
   "cell_type": "code",
   "execution_count": 60,
   "id": "monthly-palestine",
   "metadata": {},
   "outputs": [],
   "source": [
    "y = df_sub.SalaryNormalized"
   ]
  },
  {
   "cell_type": "code",
   "execution_count": 61,
   "id": "continuous-awareness",
   "metadata": {},
   "outputs": [],
   "source": [
    "X_train_full, X_test_words, y_train_full, y_test = train_test_split( X_words_padded, y, test_size=0.2, random_state=42)\n",
    "\n",
    "X_train_words, X_val_words, y_train, y_val = train_test_split( X_train_full, y_train_full, test_size=0.2, random_state=42)"
   ]
  },
  {
   "cell_type": "code",
   "execution_count": 62,
   "id": "pretty-platinum",
   "metadata": {},
   "outputs": [],
   "source": [
    "X_train_full, X_test_location, y_train_full, y_test = train_test_split( X_location, y, test_size=0.2, random_state=42)\n",
    "\n",
    "X_train_location, X_val_location, y_train, y_val = train_test_split( X_train_full, y_train_full, test_size=0.2, random_state=42)"
   ]
  },
  {
   "cell_type": "markdown",
   "id": "inner-hands",
   "metadata": {},
   "source": [
    "## Build model with only 1-Hot-Enocded variables as input"
   ]
  },
  {
   "cell_type": "code",
   "execution_count": 68,
   "id": "progressive-healing",
   "metadata": {},
   "outputs": [],
   "source": [
    "input_ = Input(shape=(X_train_location.shape[1]),)\n",
    "x = Dense(100, activation='relu')(input_)\n",
    "x = Dense(1, activation='linear')(x)\n",
    "x = Model(inputs=input_,outputs = x)\n",
    "x.compile(loss = 'mean_squared_error', optimizer = 'Adam')"
   ]
  },
  {
   "cell_type": "code",
   "execution_count": 70,
   "id": "tender-providence",
   "metadata": {},
   "outputs": [
    {
     "name": "stdout",
     "output_type": "stream",
     "text": [
      "Epoch 1/10\n",
      "15672/15672 [==============================] - 42s 3ms/step - loss: 646924928.0000 - val_loss: 256936592.0000\n",
      "Epoch 2/10\n",
      "15672/15672 [==============================] - 41s 3ms/step - loss: 241159120.0000 - val_loss: 238564672.0000\n",
      "Epoch 3/10\n",
      "15672/15672 [==============================] - 43s 3ms/step - loss: 230370512.0000 - val_loss: 233237264.0000\n",
      "Epoch 4/10\n",
      "15672/15672 [==============================] - 40s 3ms/step - loss: 227201600.0000 - val_loss: 231653840.0000\n",
      "Epoch 5/10\n",
      "15672/15672 [==============================] - 41s 3ms/step - loss: 226091728.0000 - val_loss: 231028368.0000\n",
      "Epoch 6/10\n",
      "15672/15672 [==============================] - 41s 3ms/step - loss: 225570544.0000 - val_loss: 230734784.0000\n",
      "Epoch 7/10\n",
      "15672/15672 [==============================] - 40s 3ms/step - loss: 225267936.0000 - val_loss: 230559072.0000\n",
      "Epoch 8/10\n",
      "15672/15672 [==============================] - 43s 3ms/step - loss: 225089856.0000 - val_loss: 230482288.0000\n",
      "Epoch 9/10\n",
      "15672/15672 [==============================] - 42s 3ms/step - loss: 224967920.0000 - val_loss: 230410096.0000\n",
      "Epoch 10/10\n",
      "15672/15672 [==============================] - 43s 3ms/step - loss: 224875312.0000 - val_loss: 230299040.0000\n"
     ]
    }
   ],
   "source": [
    "es = EarlyStopping(monitor='val_loss', mode='min', verbose=1)\n",
    "epochs = 10\n",
    "batch_size = 8\n",
    "history = x.fit(X_train_location.todense(), y_train, epochs =epochs, batch_size = batch_size, verbose = 1, \n",
    "                validation_data = (X_val_location.todense(), y_val),\n",
    "                callbacks = es)"
   ]
  },
  {
   "cell_type": "code",
   "execution_count": 71,
   "id": "designed-nelson",
   "metadata": {},
   "outputs": [
    {
     "name": "stdout",
     "output_type": "stream",
     "text": [
      "1225/1225 [==============================] - 3s 3ms/step - loss: 224581488.0000\n",
      "Mean RMSE = 17252\n",
      "Model RMSE = 14986\n"
     ]
    }
   ],
   "source": [
    "loss = x.evaluate(X_test_location.todense(), y_test,verbose =1)\n",
    "y_mean = np.mean(y_train)\n",
    "rmse_mean = round(np.sqrt(np.mean((y_test-y_mean)**2)))\n",
    "print(\"Mean RMSE = {}\".format(rmse_mean))\n",
    "print(\"Model RMSE = {}\".format(round(np.sqrt(loss))))"
   ]
  },
  {
   "cell_type": "code",
   "execution_count": 73,
   "id": "wanted-security",
   "metadata": {},
   "outputs": [
    {
     "name": "stdout",
     "output_type": "stream",
     "text": [
      "1225/1225 [==============================] - 2s 1ms/step\n"
     ]
    }
   ],
   "source": [
    "y_pred = x.predict(X_test_location.todense(),verbose = 1)"
   ]
  },
  {
   "cell_type": "code",
   "execution_count": 74,
   "id": "suited-medicine",
   "metadata": {},
   "outputs": [
    {
     "data": {
      "image/png": "[encoded data removed]",
      "text/plain": [
       "<Figure size 432x432 with 1 Axes>"
      ]
     },
     "metadata": {
      "needs_background": "light"
     },
     "output_type": "display_data"
    }
   ],
   "source": [
    "limits= [0,120000]\n",
    "fig = plt.figure(figsize = (6,6))  \n",
    "ax = fig.add_subplot(1, 1, 1)  \n",
    "ax.plot(y_test, y_pred, 'b.')\n",
    "ax.set_ylabel('Y_prediction')\n",
    "ax.set_xlabel('Y_test')\n",
    "ax.set_xlim(limits)\n",
    "ax.set_ylim(limits)\n",
    "plt.grid()\n",
    "plt.show()"
   ]
  },
  {
   "cell_type": "markdown",
   "id": "developed-ecuador",
   "metadata": {},
   "source": [
    "## Build functional Model with multiple inputs"
   ]
  },
  {
   "cell_type": "code",
   "execution_count": 75,
   "id": "declared-retention",
   "metadata": {},
   "outputs": [],
   "source": [
    "from keras.layers import Embedding, Flatten, concatenate"
   ]
  },
  {
   "cell_type": "code",
   "execution_count": 76,
   "id": "equipped-surrey",
   "metadata": {},
   "outputs": [],
   "source": [
    "Input_embed = Input(shape = (X_train_words.shape[1],))\n",
    "Input_location = Input(shape = (X_train_location.shape[1],))\n",
    "\n",
    "# First build the Embedding branch\n",
    "\n",
    "x = Embedding(size_of_vocabulary, 25,  input_length=max_length)(Input_embed)\n",
    "x = Conv1D(filters=100, kernel_size=5, activation='relu')(x)\n",
    "x = MaxPooling1D(pool_size=2)(x)\n",
    "x = Flatten()(x)\n",
    "x = Dense(30, activation = 'relu')(x)\n",
    "x = Model(inputs = Input_embed, outputs = x)\n",
    "\n",
    "# Build the location branch\n",
    "\n",
    "y = Dense(10, activation='relu')(Input_location)\n",
    "y = Dense(1, activation='linear')(y)\n",
    "y = Model(inputs = Input_location, outputs = y)\n",
    "\n",
    "# Combine the models\n",
    "\n",
    "combined = concatenate([x.output, y.output])\n",
    "\n",
    "z = Dense(2, activation=\"relu\")(combined)\n",
    "z = Dense(1, activation=\"linear\")(z)\n",
    "\n",
    "model = Model(inputs=[x.input, y.input], outputs=z)"
   ]
  },
  {
   "cell_type": "markdown",
   "id": "basic-armstrong",
   "metadata": {},
   "source": [
    "## Train model"
   ]
  },
  {
   "cell_type": "code",
   "execution_count": null,
   "id": "dried-symphony",
   "metadata": {},
   "outputs": [],
   "source": []
  },
  {
   "cell_type": "code",
   "execution_count": 78,
   "id": "complex-formation",
   "metadata": {},
   "outputs": [
    {
     "name": "stdout",
     "output_type": "stream",
     "text": [
      "Epoch 1/10\n",
      "15672/15672 [==============================] - 1475s 94ms/step - loss: 137031680.0000 - val_loss: 118550656.0000\n",
      "Epoch 2/10\n",
      "15672/15672 [==============================] - 1457s 93ms/step - loss: 108801288.0000 - val_loss: 110897168.0000\n",
      "Epoch 3/10\n",
      "15672/15672 [==============================] - 1486s 95ms/step - loss: 100001184.0000 - val_loss: 109426776.0000\n",
      "Epoch 4/10\n",
      "15672/15672 [==============================] - 1461s 93ms/step - loss: 93649440.0000 - val_loss: 106974416.0000\n",
      "Epoch 5/10\n",
      "15672/15672 [==============================] - 1440s 92ms/step - loss: 84613016.0000 - val_loss: 100612032.0000\n",
      "Epoch 6/10\n",
      "15672/15672 [==============================] - 1438s 92ms/step - loss: 74081752.0000 - val_loss: 100293760.0000\n",
      "Epoch 7/10\n",
      "15672/15672 [==============================] - 1468s 94ms/step - loss: 64810848.0000 - val_loss: 97657840.0000\n",
      "Epoch 8/10\n",
      "15672/15672 [==============================] - 1435s 92ms/step - loss: 57147244.0000 - val_loss: 96135896.0000\n",
      "Epoch 9/10\n",
      "15672/15672 [==============================] - 1464s 93ms/step - loss: 50989892.0000 - val_loss: 97632088.0000\n",
      "Epoch 00009: early stopping\n"
     ]
    },
    {
     "data": {
      "text/plain": [
       "<tensorflow.python.keras.callbacks.History at 0x7f68eba63690>"
      ]
     },
     "execution_count": 78,
     "metadata": {},
     "output_type": "execute_result"
    }
   ],
   "source": [
    "model.compile(loss=\"mean_squared_error\", optimizer='Adam')\n",
    "es = EarlyStopping(monitor='val_loss', mode='min', verbose=1)\n",
    "model.fit(\n",
    "    [X_train_words, X_train_location.todense()], y_train,\n",
    "    validation_data=([X_val_words, X_val_location.todense()], y_val),\n",
    "    epochs=10, batch_size=8, callbacks = es)"
   ]
  },
  {
   "cell_type": "markdown",
   "id": "smoking-polyester",
   "metadata": {},
   "source": [
    "## Evaluate model"
   ]
  },
  {
   "cell_type": "code",
   "execution_count": 79,
   "id": "listed-mercury",
   "metadata": {},
   "outputs": [
    {
     "name": "stdout",
     "output_type": "stream",
     "text": [
      "1225/1225 [==============================] - 79s 65ms/step - loss: 98314360.0000\n"
     ]
    }
   ],
   "source": [
    "loss = model.evaluate([X_test_words, X_test_location.todense()], y_test,verbose =1)"
   ]
  },
  {
   "cell_type": "code",
   "execution_count": 80,
   "id": "divided-monday",
   "metadata": {},
   "outputs": [
    {
     "name": "stdout",
     "output_type": "stream",
     "text": [
      "Mean RMSE = 17252\n",
      "Model RMSE = 9915\n"
     ]
    }
   ],
   "source": [
    "y_mean = np.mean(y_train)\n",
    "rmse_mean = round(np.sqrt(np.mean((y_test-y_mean)**2)))\n",
    "print(\"Mean RMSE = {}\".format(rmse_mean))\n",
    "print(\"Model RMSE = {}\".format(round(np.sqrt(loss))))"
   ]
  },
  {
   "cell_type": "code",
   "execution_count": 100,
   "id": "social-baker",
   "metadata": {},
   "outputs": [
    {
     "name": "stdout",
     "output_type": "stream",
     "text": [
      "157/157 [==============================] - 9s 59ms/step\n"
     ]
    }
   ],
   "source": [
    "size = 5000\n",
    "y_pred = model.predict([X_test_words[:size,:], X_test_location.todense()[:size,:]],verbose = 1)"
   ]
  },
  {
   "cell_type": "code",
   "execution_count": 105,
   "id": "absent-stocks",
   "metadata": {},
   "outputs": [
    {
     "name": "stdout",
     "output_type": "stream",
     "text": [
      "0.694934038211487\n"
     ]
    }
   ],
   "source": [
    "from sklearn.linear_model import LinearRegression\n",
    "reg = LinearRegression().fit(y_test[:size].values.reshape(-1, 1), y_pred.reshape(-1, 1))\n",
    "print(reg.score(y_test[:size].values.reshape(-1, 1), y_pred.reshape(-1, 1)))\n",
    "lin_reg = reg.predict(y_test[:size].values.reshape(-1,1))"
   ]
  },
  {
   "cell_type": "code",
   "execution_count": 117,
   "id": "christian-principal",
   "metadata": {},
   "outputs": [
    {
     "data": {
      "image/png": "[encoded data removed]",
      "text/plain": [
       "<Figure size 720x720 with 1 Axes>"
      ]
     },
     "metadata": {
      "needs_background": "light"
     },
     "output_type": "display_data"
    }
   ],
   "source": [
    "limits= [0,100000]\n",
    "fig = plt.figure(figsize = (10,10))  \n",
    "ax = fig.add_subplot(1, 1, 1)  \n",
    "ax.plot(y_test[:size], y_pred, 'b.',markersize=3, marker = '.')\n",
    "#ax.plot(y_test[:size],lin_reg,'r')\n",
    "ax.set_ylabel('Y_prediction')\n",
    "ax.set_xlabel('Y_test')\n",
    "ax.set_xlim(limits)\n",
    "ax.set_ylim(limits)\n",
    "plt.grid()\n",
    "plt.show()"
   ]
  }
 ],
 "metadata": {
  "environment": {
   "name": "tf2-gpu.2-3.mnightly-2021-01-20-debian-10-test",
   "type": "gcloud",
   "uri": "gcr.io/deeplearning-platform-release/tf2-gpu.2-3:mnightly-2021-01-20-debian-10-test"
  },
  "kernelspec": {
   "display_name": "Python 3",
   "language": "python",
   "name": "python3"
  },
  "language_info": {
   "codemirror_mode": {
    "name": "ipython",
    "version": 3
   },
   "file_extension": ".py",
   "mimetype": "text/x-python",
   "name": "python",
   "nbconvert_exporter": "python",
   "pygments_lexer": "ipython3",
   "version": "3.7.9"
  }
 },
 "nbformat": 4,
 "nbformat_minor": 5
}
