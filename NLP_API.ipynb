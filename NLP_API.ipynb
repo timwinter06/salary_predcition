{
 "cells": [
  {
   "cell_type": "code",
   "execution_count": 3,
   "id": "complimentary-oklahoma",
   "metadata": {},
   "outputs": [
    {
     "name": "stdout",
     "output_type": "stream",
     "text": [
      "google-cloud-language==2.0.0\n"
     ]
    }
   ],
   "source": [
    "#!pip install --upgrade google-cloud-language\n",
    "!pip3 freeze | grep google-cloud-language"
   ]
  },
  {
   "cell_type": "code",
   "execution_count": 17,
   "id": "prime-homework",
   "metadata": {},
   "outputs": [],
   "source": [
    "from google.cloud import storage\n",
    "from google.cloud import language\n",
    "import pandas as pd\n"
   ]
  },
  {
   "cell_type": "code",
   "execution_count": 68,
   "id": "atlantic-nancy",
   "metadata": {},
   "outputs": [],
   "source": [
    "def classify_text(text):\n",
    "    client = language.LanguageServiceClient()\n",
    "    document = language.Document(content=text, type_=language.Document.Type.PLAIN_TEXT)\n",
    "\n",
    "    response = client.classify_text(document=document)\n",
    "    \n",
    "    return(response)\n",
    "\n",
    "def entity_text(text):\n",
    "    client = language.LanguageServiceClient()\n",
    "    document = language.Document(content=text, type_=language.Document.Type.PLAIN_TEXT)\n",
    "\n",
    "    \n",
    "    response = client.analyze_entities(document=document)\n"
   ]
  },
  {
   "cell_type": "code",
   "execution_count": 9,
   "id": "peaceful-physics",
   "metadata": {},
   "outputs": [
    {
     "name": "stdout",
     "output_type": "stream",
     "text": [
      "================================================================================\n",
      "category  : /Computers & Electronics/Programming\n",
      "confidence: 99%\n",
      "================================================================================\n",
      "category  : /Science/Computer Science\n",
      "confidence: 99%\n"
     ]
    }
   ],
   "source": [
    "text = (\n",
    "    \"Python is an interpreted, high-level, general-purpose programming language. \"\n",
    "    \"Created by Guido van Rossum and first released in 1991, \"\n",
    "    \"Python's design philosophy emphasizes code readability \"\n",
    "    \"with its notable use of significant whitespace.\"\n",
    ")\n",
    "x = classify_text(text)"
   ]
  },
  {
   "cell_type": "code",
   "execution_count": 15,
   "id": "figured-reviewer",
   "metadata": {},
   "outputs": [
    {
     "name": "stdout",
     "output_type": "stream",
     "text": [
      "['Location_Tree.csv', 'Test_rev1.csv', 'Train_rev1.csv', 'Valid_rev1.csv', 'mean_benchmark.csv', 'random_forest_benchmark_test_rev1.csv', 'test.csv']\n"
     ]
    }
   ],
   "source": [
    "# Get files from GCS bucket\n",
    "\n",
    "BUCKET_NAME = 'salary-data'\n",
    "\n",
    "client = storage.Client()\n",
    "bucket = client.get_bucket(BUCKET_NAME)\n",
    "\n",
    "blobs = bucket.list_blobs()\n",
    "files = []\n",
    "for blob in blobs:\n",
    "    files.append(blob.name)\n",
    "\n",
    "print(files)"
   ]
  },
  {
   "cell_type": "code",
   "execution_count": 18,
   "id": "casual-holly",
   "metadata": {},
   "outputs": [],
   "source": [
    "# Read train set from bucket\n",
    "train_set_name = files[2]\n",
    "\n",
    "df_train = pd.read_csv('gs://{}/{}'.format(BUCKET_NAME,train_set_name))"
   ]
  },
  {
   "cell_type": "code",
   "execution_count": 26,
   "id": "indie-steal",
   "metadata": {},
   "outputs": [],
   "source": [
    "text_3 = df_train.FullDescription[2]"
   ]
  },
  {
   "cell_type": "code",
   "execution_count": 38,
   "id": "ranging-radical",
   "metadata": {},
   "outputs": [],
   "source": [
    "response = classify_text(text_3)"
   ]
  },
  {
   "cell_type": "code",
   "execution_count": 60,
   "id": "governmental-pacific",
   "metadata": {},
   "outputs": [
    {
     "data": {
      "text/plain": [
       "'/Science/Mathematics'"
      ]
     },
     "execution_count": 60,
     "metadata": {},
     "output_type": "execute_result"
    }
   ],
   "source": [
    "response.categories[0].name"
   ]
  },
  {
   "cell_type": "code",
   "execution_count": 69,
   "id": "exterior-optics",
   "metadata": {},
   "outputs": [],
   "source": [
    "repsonse = entity_text(text_3)"
   ]
  },
  {
   "cell_type": "code",
   "execution_count": 70,
   "id": "animal-creature",
   "metadata": {},
   "outputs": [
    {
     "data": {
      "text/plain": [
       "categories {\n",
       "  name: \"/Science/Mathematics\"\n",
       "  confidence: 0.5199999809265137\n",
       "}\n",
       "categories {\n",
       "  name: \"/Business & Industrial\"\n",
       "  confidence: 0.5099999904632568\n",
       "}"
      ]
     },
     "execution_count": 70,
     "metadata": {},
     "output_type": "execute_result"
    }
   ],
   "source": [
    "response"
   ]
  }
 ],
 "metadata": {
  "environment": {
   "name": "tf2-gpu.2-3.mnightly-2021-01-20-debian-10-test",
   "type": "gcloud",
   "uri": "gcr.io/deeplearning-platform-release/tf2-gpu.2-3:mnightly-2021-01-20-debian-10-test"
  },
  "kernelspec": {
   "display_name": "Python 3",
   "language": "python",
   "name": "python3"
  },
  "language_info": {
   "codemirror_mode": {
    "name": "ipython",
    "version": 3
   },
   "file_extension": ".py",
   "mimetype": "text/x-python",
   "name": "python",
   "nbconvert_exporter": "python",
   "pygments_lexer": "ipython3",
   "version": "3.7.9"
  }
 },
 "nbformat": 4,
 "nbformat_minor": 5
}
