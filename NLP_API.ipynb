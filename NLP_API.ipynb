{
 "cells": [],
 "metadata": {
  "environment": {
   "name": "tf2-gpu.2-3.mnightly-2021-01-20-debian-10-test",
   "type": "gcloud",
   "uri": "gcr.io/deeplearning-platform-release/tf2-gpu.2-3:mnightly-2021-01-20-debian-10-test"
  }
 },
 "nbformat": 4,
 "nbformat_minor": 5
}
