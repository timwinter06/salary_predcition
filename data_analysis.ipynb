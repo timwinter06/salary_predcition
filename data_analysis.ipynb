{
 "cells": [
  {
   "cell_type": "code",
   "execution_count": 1,
   "id": "coated-dispute",
   "metadata": {},
   "outputs": [],
   "source": [
    "# imports\n",
    "import pandas as pd\n",
    "import numpy as np\n",
    "from google.cloud import storage\n",
    "import matplotlib.pyplot as plt\n",
    "import tensorflow as tf\n",
    "from tensorflow.keras.preprocessing.text import Tokenizer\n",
    "\n",
    "import nltk\n",
    "\n",
    "import geopy\n",
    "from geopy.geocoders import Nominatim\n",
    "\n",
    "import folium\n",
    "from folium import FeatureGroup, LayerControl, Map, Marker\n",
    "from folium.plugins import HeatMap\n",
    "from folium.plugins import TimestampedGeoJson\n",
    "from folium.plugins import MarkerCluster\n",
    "\n",
    "%matplotlib inline\n",
    "\n",
    "import matplotlib.pyplot as plt\n",
    "plt.rcParams[\"figure.figsize\"] = (8,6)"
   ]
  },
  {
   "cell_type": "code",
   "execution_count": null,
   "id": "structured-shopper",
   "metadata": {},
   "outputs": [],
   "source": []
  },
  {
   "cell_type": "code",
   "execution_count": null,
   "id": "fatty-constitution",
   "metadata": {},
   "outputs": [],
   "source": []
  },
  {
   "cell_type": "code",
   "execution_count": null,
   "id": "heated-ontario",
   "metadata": {},
   "outputs": [],
   "source": [
    "#!pip install geopy\n",
    "#!pip install folium\n",
    "#!pip install nltk"
   ]
  },
  {
   "cell_type": "markdown",
   "id": "labeled-repair",
   "metadata": {},
   "source": [
    "# Load data"
   ]
  },
  {
   "cell_type": "code",
   "execution_count": 2,
   "id": "cooperative-persian",
   "metadata": {},
   "outputs": [
    {
     "name": "stdout",
     "output_type": "stream",
     "text": [
      "['Location_Tree.csv', 'Test_rev1.csv', 'Train_rev1.csv', 'Valid_rev1.csv', 'mean_benchmark.csv', 'random_forest_benchmark_test_rev1.csv', 'test.csv']\n"
     ]
    }
   ],
   "source": [
    "# Get files from GCS bucket\n",
    "\n",
    "BUCKET_NAME = 'salary-data'\n",
    "\n",
    "client = storage.Client()\n",
    "bucket = client.get_bucket(BUCKET_NAME)\n",
    "\n",
    "blobs = bucket.list_blobs()\n",
    "files = []\n",
    "for blob in blobs:\n",
    "    files.append(blob.name)\n",
    "\n",
    "print(files)"
   ]
  },
  {
   "cell_type": "code",
   "execution_count": 4,
   "id": "nonprofit-jacksonville",
   "metadata": {},
   "outputs": [],
   "source": [
    "# Read train set from bucket\n",
    "train_set_name = files[2]\n",
    "\n",
    "df_train = pd.read_csv('gs://{}/{}'.format(BUCKET_NAME,train_set_name))"
   ]
  },
  {
   "cell_type": "code",
   "execution_count": null,
   "id": "stable-hawaii",
   "metadata": {},
   "outputs": [],
   "source": [
    "df_benchmark = pd.read_csv('gs://{}/{}'.format(BUCKET_NAME,files[4]))\n",
    "df_location_tree = pd.read_csv('gs://{}/{}'.format(BUCKET_NAME,files[0]))\n",
    "df_rf = pd.read_csv('gs://{}/{}'.format(BUCKET_NAME,files[-2]))"
   ]
  },
  {
   "cell_type": "code",
   "execution_count": 5,
   "id": "romance-liver",
   "metadata": {},
   "outputs": [
    {
     "data": {
      "text/html": [
       "<div>\n",
       "<style scoped>\n",
       "    .dataframe tbody tr th:only-of-type {\n",
       "        vertical-align: middle;\n",
       "    }\n",
       "\n",
       "    .dataframe tbody tr th {\n",
       "        vertical-align: top;\n",
       "    }\n",
       "\n",
       "    .dataframe thead th {\n",
       "        text-align: right;\n",
       "    }\n",
       "</style>\n",
       "<table border=\"1\" class=\"dataframe\">\n",
       "  <thead>\n",
       "    <tr style=\"text-align: right;\">\n",
       "      <th></th>\n",
       "      <th>Id</th>\n",
       "      <th>Title</th>\n",
       "      <th>FullDescription</th>\n",
       "      <th>LocationRaw</th>\n",
       "      <th>LocationNormalized</th>\n",
       "      <th>ContractType</th>\n",
       "      <th>ContractTime</th>\n",
       "      <th>Company</th>\n",
       "      <th>Category</th>\n",
       "      <th>SalaryRaw</th>\n",
       "      <th>SalaryNormalized</th>\n",
       "      <th>SourceName</th>\n",
       "    </tr>\n",
       "  </thead>\n",
       "  <tbody>\n",
       "    <tr>\n",
       "      <th>0</th>\n",
       "      <td>12612628</td>\n",
       "      <td>Engineering Systems Analyst</td>\n",
       "      <td>Engineering Systems Analyst Dorking Surrey Sal...</td>\n",
       "      <td>Dorking, Surrey, Surrey</td>\n",
       "      <td>Dorking</td>\n",
       "      <td>NaN</td>\n",
       "      <td>permanent</td>\n",
       "      <td>Gregory Martin International</td>\n",
       "      <td>Engineering Jobs</td>\n",
       "      <td>20000 - 30000/annum 20-30K</td>\n",
       "      <td>25000</td>\n",
       "      <td>cv-library.co.uk</td>\n",
       "    </tr>\n",
       "    <tr>\n",
       "      <th>1</th>\n",
       "      <td>12612830</td>\n",
       "      <td>Stress Engineer Glasgow</td>\n",
       "      <td>Stress Engineer Glasgow Salary **** to **** We...</td>\n",
       "      <td>Glasgow, Scotland, Scotland</td>\n",
       "      <td>Glasgow</td>\n",
       "      <td>NaN</td>\n",
       "      <td>permanent</td>\n",
       "      <td>Gregory Martin International</td>\n",
       "      <td>Engineering Jobs</td>\n",
       "      <td>25000 - 35000/annum 25-35K</td>\n",
       "      <td>30000</td>\n",
       "      <td>cv-library.co.uk</td>\n",
       "    </tr>\n",
       "    <tr>\n",
       "      <th>2</th>\n",
       "      <td>12612844</td>\n",
       "      <td>Modelling and simulation analyst</td>\n",
       "      <td>Mathematical Modeller / Simulation Analyst / O...</td>\n",
       "      <td>Hampshire, South East, South East</td>\n",
       "      <td>Hampshire</td>\n",
       "      <td>NaN</td>\n",
       "      <td>permanent</td>\n",
       "      <td>Gregory Martin International</td>\n",
       "      <td>Engineering Jobs</td>\n",
       "      <td>20000 - 40000/annum 20-40K</td>\n",
       "      <td>30000</td>\n",
       "      <td>cv-library.co.uk</td>\n",
       "    </tr>\n",
       "    <tr>\n",
       "      <th>3</th>\n",
       "      <td>12613049</td>\n",
       "      <td>Engineering Systems Analyst / Mathematical Mod...</td>\n",
       "      <td>Engineering Systems Analyst / Mathematical Mod...</td>\n",
       "      <td>Surrey, South East, South East</td>\n",
       "      <td>Surrey</td>\n",
       "      <td>NaN</td>\n",
       "      <td>permanent</td>\n",
       "      <td>Gregory Martin International</td>\n",
       "      <td>Engineering Jobs</td>\n",
       "      <td>25000 - 30000/annum 25K-30K negotiable</td>\n",
       "      <td>27500</td>\n",
       "      <td>cv-library.co.uk</td>\n",
       "    </tr>\n",
       "    <tr>\n",
       "      <th>4</th>\n",
       "      <td>12613647</td>\n",
       "      <td>Pioneer, Miser Engineering Systems Analyst</td>\n",
       "      <td>Pioneer, Miser  Engineering Systems Analyst Do...</td>\n",
       "      <td>Surrey, South East, South East</td>\n",
       "      <td>Surrey</td>\n",
       "      <td>NaN</td>\n",
       "      <td>permanent</td>\n",
       "      <td>Gregory Martin International</td>\n",
       "      <td>Engineering Jobs</td>\n",
       "      <td>20000 - 30000/annum 20-30K</td>\n",
       "      <td>25000</td>\n",
       "      <td>cv-library.co.uk</td>\n",
       "    </tr>\n",
       "  </tbody>\n",
       "</table>\n",
       "</div>"
      ],
      "text/plain": [
       "         Id                                              Title  \\\n",
       "0  12612628                        Engineering Systems Analyst   \n",
       "1  12612830                            Stress Engineer Glasgow   \n",
       "2  12612844                   Modelling and simulation analyst   \n",
       "3  12613049  Engineering Systems Analyst / Mathematical Mod...   \n",
       "4  12613647         Pioneer, Miser Engineering Systems Analyst   \n",
       "\n",
       "                                     FullDescription  \\\n",
       "0  Engineering Systems Analyst Dorking Surrey Sal...   \n",
       "1  Stress Engineer Glasgow Salary **** to **** We...   \n",
       "2  Mathematical Modeller / Simulation Analyst / O...   \n",
       "3  Engineering Systems Analyst / Mathematical Mod...   \n",
       "4  Pioneer, Miser  Engineering Systems Analyst Do...   \n",
       "\n",
       "                         LocationRaw LocationNormalized ContractType  \\\n",
       "0            Dorking, Surrey, Surrey            Dorking          NaN   \n",
       "1        Glasgow, Scotland, Scotland            Glasgow          NaN   \n",
       "2  Hampshire, South East, South East          Hampshire          NaN   \n",
       "3     Surrey, South East, South East             Surrey          NaN   \n",
       "4     Surrey, South East, South East             Surrey          NaN   \n",
       "\n",
       "  ContractTime                       Company          Category  \\\n",
       "0    permanent  Gregory Martin International  Engineering Jobs   \n",
       "1    permanent  Gregory Martin International  Engineering Jobs   \n",
       "2    permanent  Gregory Martin International  Engineering Jobs   \n",
       "3    permanent  Gregory Martin International  Engineering Jobs   \n",
       "4    permanent  Gregory Martin International  Engineering Jobs   \n",
       "\n",
       "                                SalaryRaw  SalaryNormalized        SourceName  \n",
       "0              20000 - 30000/annum 20-30K             25000  cv-library.co.uk  \n",
       "1              25000 - 35000/annum 25-35K             30000  cv-library.co.uk  \n",
       "2              20000 - 40000/annum 20-40K             30000  cv-library.co.uk  \n",
       "3  25000 - 30000/annum 25K-30K negotiable             27500  cv-library.co.uk  \n",
       "4              20000 - 30000/annum 20-30K             25000  cv-library.co.uk  "
      ]
     },
     "execution_count": 5,
     "metadata": {},
     "output_type": "execute_result"
    }
   ],
   "source": [
    "df_train.head()\n",
    "#df_location_tree"
   ]
  },
  {
   "cell_type": "markdown",
   "id": "entire-tanzania",
   "metadata": {},
   "source": [
    "# Visualise and analyse"
   ]
  },
  {
   "cell_type": "markdown",
   "id": "unlikely-federation",
   "metadata": {},
   "source": [
    "## Check salary distribution"
   ]
  },
  {
   "cell_type": "code",
   "execution_count": 107,
   "id": "severe-constitution",
   "metadata": {},
   "outputs": [
    {
     "data": {
      "image/png": "[encoded data removed]",
      "text/plain": [
       "<Figure size 576x432 with 1 Axes>"
      ]
     },
     "metadata": {
      "needs_background": "light"
     },
     "output_type": "display_data"
    }
   ],
   "source": [
    "ax = df_train.hist(column = 'SalaryNormalized', bins = 50) \n"
   ]
  },
  {
   "cell_type": "code",
   "execution_count": 184,
   "id": "entertaining-democracy",
   "metadata": {},
   "outputs": [
    {
     "name": "stdout",
     "output_type": "stream",
     "text": [
      "Mean salary = $34123\n",
      "Median salary = $30000\n",
      "Max salary = $200000\n",
      "Min salary = $5000\n",
      "Std salary = $17641\n"
     ]
    }
   ],
   "source": [
    "print('Mean salary = ${}'.format(round(df_train.SalaryNormalized.mean())))\n",
    "print('Median salary = ${}'.format(round(df_train.SalaryNormalized.median())))\n",
    "print('Max salary = ${}'.format(round(df_train.SalaryNormalized.max())))\n",
    "print('Min salary = ${}'.format(round(df_train.SalaryNormalized.min())))\n",
    "print('Std salary = ${}'.format(round(df_train.SalaryNormalized.std())))"
   ]
  },
  {
   "cell_type": "markdown",
   "id": "transparent-mouth",
   "metadata": {},
   "source": [
    "## Check for any missing values"
   ]
  },
  {
   "cell_type": "code",
   "execution_count": 108,
   "id": "textile-wiring",
   "metadata": {},
   "outputs": [
    {
     "data": {
      "text/plain": [
       "Id                         0\n",
       "Title                      1\n",
       "FullDescription            0\n",
       "LocationRaw                0\n",
       "LocationNormalized         0\n",
       "ContractType          179326\n",
       "ContractTime           63905\n",
       "Company                32430\n",
       "Category                   0\n",
       "SalaryRaw                  0\n",
       "SalaryNormalized           0\n",
       "SourceName                 1\n",
       "dtype: int64"
      ]
     },
     "execution_count": 108,
     "metadata": {},
     "output_type": "execute_result"
    }
   ],
   "source": [
    "# Check for NaN\n",
    "\n",
    "df_train.isnull().sum()\n",
    "#df_train.isna().sum()\n",
    "\n",
    "#df_train.info()"
   ]
  },
  {
   "cell_type": "markdown",
   "id": "norwegian-ethnic",
   "metadata": {},
   "source": [
    "## Check the locations"
   ]
  },
  {
   "cell_type": "code",
   "execution_count": 109,
   "id": "popular-melissa",
   "metadata": {},
   "outputs": [
    {
     "name": "stdout",
     "output_type": "stream",
     "text": [
      "Number of unique raw locations = 20986\n",
      "Number of unique normalised locations = 2732\n"
     ]
    }
   ],
   "source": [
    "raw_cities = df_train.LocationRaw.unique()\n",
    "norm_cities = df_train.LocationNormalized.unique()\n",
    "\n",
    "print('Number of unique raw locations = {}'.format(len(raw_cities)))\n",
    "print('Number of unique normalised locations = {}'.format(len(norm_cities)))"
   ]
  },
  {
   "cell_type": "code",
   "execution_count": 197,
   "id": "acceptable-location",
   "metadata": {},
   "outputs": [
    {
     "ename": "KeyError",
     "evalue": "'LocationNormalized = Worle'",
     "output_type": "error",
     "traceback": [
      "\u001b[0;31m---------------------------------------------------------------------------\u001b[0m",
      "\u001b[0;31mKeyError\u001b[0m                                  Traceback (most recent call last)",
      "\u001b[0;32m/opt/conda/lib/python3.7/site-packages/pandas/core/indexes/base.py\u001b[0m in \u001b[0;36mget_loc\u001b[0;34m(self, key, method, tolerance)\u001b[0m\n\u001b[1;32m   3079\u001b[0m             \u001b[0;32mtry\u001b[0m\u001b[0;34m:\u001b[0m\u001b[0;34m\u001b[0m\u001b[0;34m\u001b[0m\u001b[0m\n\u001b[0;32m-> 3080\u001b[0;31m                 \u001b[0;32mreturn\u001b[0m \u001b[0mself\u001b[0m\u001b[0;34m.\u001b[0m\u001b[0m_engine\u001b[0m\u001b[0;34m.\u001b[0m\u001b[0mget_loc\u001b[0m\u001b[0;34m(\u001b[0m\u001b[0mcasted_key\u001b[0m\u001b[0;34m)\u001b[0m\u001b[0;34m\u001b[0m\u001b[0;34m\u001b[0m\u001b[0m\n\u001b[0m\u001b[1;32m   3081\u001b[0m             \u001b[0;32mexcept\u001b[0m \u001b[0mKeyError\u001b[0m \u001b[0;32mas\u001b[0m \u001b[0merr\u001b[0m\u001b[0;34m:\u001b[0m\u001b[0;34m\u001b[0m\u001b[0;34m\u001b[0m\u001b[0m\n",
      "\u001b[0;32mpandas/_libs/index.pyx\u001b[0m in \u001b[0;36mpandas._libs.index.IndexEngine.get_loc\u001b[0;34m()\u001b[0m\n",
      "\u001b[0;32mpandas/_libs/index.pyx\u001b[0m in \u001b[0;36mpandas._libs.index.IndexEngine.get_loc\u001b[0;34m()\u001b[0m\n",
      "\u001b[0;32mpandas/_libs/hashtable_class_helper.pxi\u001b[0m in \u001b[0;36mpandas._libs.hashtable.PyObjectHashTable.get_item\u001b[0;34m()\u001b[0m\n",
      "\u001b[0;32mpandas/_libs/hashtable_class_helper.pxi\u001b[0m in \u001b[0;36mpandas._libs.hashtable.PyObjectHashTable.get_item\u001b[0;34m()\u001b[0m\n",
      "\u001b[0;31mKeyError\u001b[0m: 'LocationNormalized = Worle'",
      "\nThe above exception was the direct cause of the following exception:\n",
      "\u001b[0;31mKeyError\u001b[0m                                  Traceback (most recent call last)",
      "\u001b[0;32m<ipython-input-197-b8fb2efd48e8>\u001b[0m in \u001b[0;36m<module>\u001b[0;34m\u001b[0m\n\u001b[0;32m----> 1\u001b[0;31m \u001b[0mdf_train\u001b[0m\u001b[0;34m[\u001b[0m\u001b[0;34m'LocationNormalized = Worle'\u001b[0m\u001b[0;34m]\u001b[0m\u001b[0;34m\u001b[0m\u001b[0;34m\u001b[0m\u001b[0m\n\u001b[0m",
      "\u001b[0;32m/opt/conda/lib/python3.7/site-packages/pandas/core/frame.py\u001b[0m in \u001b[0;36m__getitem__\u001b[0;34m(self, key)\u001b[0m\n\u001b[1;32m   3022\u001b[0m             \u001b[0;32mif\u001b[0m \u001b[0mself\u001b[0m\u001b[0;34m.\u001b[0m\u001b[0mcolumns\u001b[0m\u001b[0;34m.\u001b[0m\u001b[0mnlevels\u001b[0m \u001b[0;34m>\u001b[0m \u001b[0;36m1\u001b[0m\u001b[0;34m:\u001b[0m\u001b[0;34m\u001b[0m\u001b[0;34m\u001b[0m\u001b[0m\n\u001b[1;32m   3023\u001b[0m                 \u001b[0;32mreturn\u001b[0m \u001b[0mself\u001b[0m\u001b[0;34m.\u001b[0m\u001b[0m_getitem_multilevel\u001b[0m\u001b[0;34m(\u001b[0m\u001b[0mkey\u001b[0m\u001b[0;34m)\u001b[0m\u001b[0;34m\u001b[0m\u001b[0;34m\u001b[0m\u001b[0m\n\u001b[0;32m-> 3024\u001b[0;31m             \u001b[0mindexer\u001b[0m \u001b[0;34m=\u001b[0m \u001b[0mself\u001b[0m\u001b[0;34m.\u001b[0m\u001b[0mcolumns\u001b[0m\u001b[0;34m.\u001b[0m\u001b[0mget_loc\u001b[0m\u001b[0;34m(\u001b[0m\u001b[0mkey\u001b[0m\u001b[0;34m)\u001b[0m\u001b[0;34m\u001b[0m\u001b[0;34m\u001b[0m\u001b[0m\n\u001b[0m\u001b[1;32m   3025\u001b[0m             \u001b[0;32mif\u001b[0m \u001b[0mis_integer\u001b[0m\u001b[0;34m(\u001b[0m\u001b[0mindexer\u001b[0m\u001b[0;34m)\u001b[0m\u001b[0;34m:\u001b[0m\u001b[0;34m\u001b[0m\u001b[0;34m\u001b[0m\u001b[0m\n\u001b[1;32m   3026\u001b[0m                 \u001b[0mindexer\u001b[0m \u001b[0;34m=\u001b[0m \u001b[0;34m[\u001b[0m\u001b[0mindexer\u001b[0m\u001b[0;34m]\u001b[0m\u001b[0;34m\u001b[0m\u001b[0;34m\u001b[0m\u001b[0m\n",
      "\u001b[0;32m/opt/conda/lib/python3.7/site-packages/pandas/core/indexes/base.py\u001b[0m in \u001b[0;36mget_loc\u001b[0;34m(self, key, method, tolerance)\u001b[0m\n\u001b[1;32m   3080\u001b[0m                 \u001b[0;32mreturn\u001b[0m \u001b[0mself\u001b[0m\u001b[0;34m.\u001b[0m\u001b[0m_engine\u001b[0m\u001b[0;34m.\u001b[0m\u001b[0mget_loc\u001b[0m\u001b[0;34m(\u001b[0m\u001b[0mcasted_key\u001b[0m\u001b[0;34m)\u001b[0m\u001b[0;34m\u001b[0m\u001b[0;34m\u001b[0m\u001b[0m\n\u001b[1;32m   3081\u001b[0m             \u001b[0;32mexcept\u001b[0m \u001b[0mKeyError\u001b[0m \u001b[0;32mas\u001b[0m \u001b[0merr\u001b[0m\u001b[0;34m:\u001b[0m\u001b[0;34m\u001b[0m\u001b[0;34m\u001b[0m\u001b[0m\n\u001b[0;32m-> 3082\u001b[0;31m                 \u001b[0;32mraise\u001b[0m \u001b[0mKeyError\u001b[0m\u001b[0;34m(\u001b[0m\u001b[0mkey\u001b[0m\u001b[0;34m)\u001b[0m \u001b[0;32mfrom\u001b[0m \u001b[0merr\u001b[0m\u001b[0;34m\u001b[0m\u001b[0;34m\u001b[0m\u001b[0m\n\u001b[0m\u001b[1;32m   3083\u001b[0m \u001b[0;34m\u001b[0m\u001b[0m\n\u001b[1;32m   3084\u001b[0m         \u001b[0;32mif\u001b[0m \u001b[0mtolerance\u001b[0m \u001b[0;32mis\u001b[0m \u001b[0;32mnot\u001b[0m \u001b[0;32mNone\u001b[0m\u001b[0;34m:\u001b[0m\u001b[0;34m\u001b[0m\u001b[0;34m\u001b[0m\u001b[0m\n",
      "\u001b[0;31mKeyError\u001b[0m: 'LocationNormalized = Worle'"
     ]
    }
   ],
   "source": [
    "df_train['LocationNormalized = Worle']"
   ]
  },
  {
   "cell_type": "code",
   "execution_count": 136,
   "id": "romantic-puzzle",
   "metadata": {},
   "outputs": [
    {
     "data": {
      "text/plain": [
       "Text(0.5, 1.0, 'Top 10 normalised Locations')"
      ]
     },
     "execution_count": 136,
     "metadata": {},
     "output_type": "execute_result"
    },
    {
     "data": {
      "image/png": "[encoded data removed]",
      "text/plain": [
       "<Figure size 576x432 with 1 Axes>"
      ]
     },
     "metadata": {
      "needs_background": "light"
     },
     "output_type": "display_data"
    }
   ],
   "source": [
    "raw_counts = df_train.LocationRaw.value_counts()\n",
    "norm_counts = df_train.LocationNormalized.value_counts()\n",
    "\n",
    "# print('Top raw locations \\n')\n",
    "# print(raw_counts[0:10] )\n",
    "# print('\\n')\n",
    "# print('Top normalised locations \\n')\n",
    "# print(norm_counts[0:10])\n",
    "plt.rcParams[\"figure.figsize\"] = (8,6)\n",
    "ax =norm_counts[0:10].plot.barh()\n",
    "ax.set_title('Top 10 normalised Locations')"
   ]
  },
  {
   "cell_type": "code",
   "execution_count": 137,
   "id": "interested-transition",
   "metadata": {},
   "outputs": [],
   "source": [
    "geolocator = Nominatim(user_agent='myapplication')\n"
   ]
  },
  {
   "cell_type": "code",
   "execution_count": null,
   "id": "concrete-snowboard",
   "metadata": {},
   "outputs": [],
   "source": []
  },
  {
   "cell_type": "code",
   "execution_count": 150,
   "id": "starting-mustang",
   "metadata": {},
   "outputs": [],
   "source": [
    "# locations = []\n",
    "\n",
    "# for index, row in df_train.LocationNormalized.items():\n",
    "    \n",
    "#     locations.append(geolocator.geocode(df_train.LocationNormalized[0]))\n",
    "#     print(index, end='\\r')\n",
    "    "
   ]
  },
  {
   "cell_type": "code",
   "execution_count": null,
   "id": "federal-preference",
   "metadata": {},
   "outputs": [],
   "source": [
    "location = geolocator.geocode(\"Surrey\")\n",
    "coordinates = [location.latitude,location.longitude]\n",
    "print(coordinates)"
   ]
  },
  {
   "cell_type": "code",
   "execution_count": null,
   "id": "regional-section",
   "metadata": {},
   "outputs": [],
   "source": [
    "drop_map = folium.Map(location = [51.50,-0.13],zoom_start = 5,)\n",
    "\n",
    "folium.CircleMarker(coordinates,\n",
    "                    radius = 1.5,                    \n",
    "                    color = 'red', \n",
    "                    fill_opacity=0.5\n",
    "                   ).add_to(drop_map)\n",
    "drop_map"
   ]
  },
  {
   "cell_type": "markdown",
   "id": "normal-selection",
   "metadata": {},
   "source": [
    "## Check the Job titles/ company/ category"
   ]
  },
  {
   "cell_type": "code",
   "execution_count": 173,
   "id": "unauthorized-ranking",
   "metadata": {},
   "outputs": [
    {
     "name": "stdout",
     "output_type": "stream",
     "text": [
      "Number of unique titles= 135436\n",
      "Number of unique categories = 29\n",
      "Number of unique companies = 20813\n"
     ]
    }
   ],
   "source": [
    "uni_title = df_train.Title.unique()\n",
    "uni_cat = df_train.Category.unique()\n",
    "uni_comp = df_train.Company.unique()\n",
    "\n",
    "print('Number of unique titles= {}'.format(len(uni_title)))\n",
    "print('Number of unique categories = {}'.format(len(uni_cat)))\n",
    "print('Number of unique companies = {}'.format(len(uni_comp)))"
   ]
  },
  {
   "cell_type": "code",
   "execution_count": 154,
   "id": "answering-companion",
   "metadata": {},
   "outputs": [
    {
     "data": {
      "text/plain": [
       "Text(0.5, 1.0, 'Top 10 companies')"
      ]
     },
     "execution_count": 154,
     "metadata": {},
     "output_type": "execute_result"
    },
    {
     "data": {
      "image/png": "[encoded data removed]",
      "text/plain": [
       "<Figure size 576x432 with 1 Axes>"
      ]
     },
     "metadata": {
      "needs_background": "light"
     },
     "output_type": "display_data"
    }
   ],
   "source": [
    "title_counts = df_train.Title.value_counts()\n",
    "category_counts = df_train.Category.value_counts()\n",
    "company_counts = df_train.Company.value_counts()\n",
    "\n",
    "\n",
    "# print(norm_counts[0:10])\n",
    "plt.rcParams[\"figure.figsize\"] = (8,6)\n",
    "ax = company_counts[0:10].plot.barh()\n",
    "ax.set_title('Top 10 companies')\n"
   ]
  },
  {
   "cell_type": "markdown",
   "id": "fatal-action",
   "metadata": {},
   "source": [
    "## Check mean salaries per title/category/company/location"
   ]
  },
  {
   "cell_type": "code",
   "execution_count": 172,
   "id": "synthetic-abortion",
   "metadata": {},
   "outputs": [
    {
     "data": {
      "text/plain": [
       "Text(0.5, 1.0, 'Top 10 paid Locations')"
      ]
     },
     "execution_count": 172,
     "metadata": {},
     "output_type": "execute_result"
    },
    {
     "data": {
      "image/png": "[encoded data removed]",
      "text/plain": [
       "<Figure size 576x432 with 1 Axes>"
      ]
     },
     "metadata": {
      "needs_background": "light"
     },
     "output_type": "display_data"
    }
   ],
   "source": [
    "salary_per_category = df_train.groupby(['LocationNormalized']).mean()\n",
    "\n",
    "salary_per_category = salary_per_category.sort_values(by=['SalaryNormalized'],ascending=False)\n",
    "\n",
    "plt.rcParams[\"figure.figsize\"] = (8,6)\n",
    "ax = salary_per_category.SalaryNormalized[0:10].plot.barh()\n",
    "ax.set_title('Top 10 paid Locations')\n"
   ]
  },
  {
   "cell_type": "markdown",
   "id": "aggressive-residence",
   "metadata": {},
   "source": [
    "## Check the difference between contract time and types"
   ]
  },
  {
   "cell_type": "code",
   "execution_count": 185,
   "id": "express-lawyer",
   "metadata": {},
   "outputs": [
    {
     "name": "stdout",
     "output_type": "stream",
     "text": [
      "[nan 'full_time' 'part_time']\n",
      "['permanent' nan 'contract']\n"
     ]
    }
   ],
   "source": [
    "type_contract = df_train.ContractType.unique()\n",
    "time_contract = df_train.ContractTime.unique()\n",
    "\n",
    "print(type_contract)\n",
    "print(time_contract)\n"
   ]
  },
  {
   "cell_type": "code",
   "execution_count": null,
   "id": "unnecessary-suspension",
   "metadata": {},
   "outputs": [],
   "source": [
    "df_train.columns"
   ]
  },
  {
   "cell_type": "code",
   "execution_count": 187,
   "id": "absolute-monster",
   "metadata": {},
   "outputs": [],
   "source": [
    "# Remove nans and check if there is a difference in average salary between contracts\n",
    "\n",
    "df_no_nan_type = df_train[df_train.ContractType.notna()]\n",
    "df_no_nan_time = df_train[df_train.ContractTime.notna()]\n",
    "\n",
    "df_avg_type = df_no_nan_type.groupby(['ContractType']).mean()\n",
    "df_avg_time = df_no_nan_time.groupby(['ContractTime']).mean()\n"
   ]
  },
  {
   "cell_type": "code",
   "execution_count": 191,
   "id": "renewable-dylan",
   "metadata": {},
   "outputs": [],
   "source": [
    "df_avg_type = df_train.groupby(['ContractType']).mean()\n",
    "df_avg_time = df_train.groupby(['ContractTime']).mean()"
   ]
  },
  {
   "cell_type": "code",
   "execution_count": 192,
   "id": "smoking-albany",
   "metadata": {},
   "outputs": [],
   "source": [
    "df_avg_type = df_avg_type.reset_index()\n",
    "df_avg_time = df_avg_time.reset_index()"
   ]
  },
  {
   "cell_type": "code",
   "execution_count": 196,
   "id": "earned-watershed",
   "metadata": {},
   "outputs": [
    {
     "data": {
      "text/plain": [
       "<AxesSubplot:xlabel='ContractTime'>"
      ]
     },
     "execution_count": 196,
     "metadata": {},
     "output_type": "execute_result"
    },
    {
     "data": {
      "image/png": "[encoded data removed]",
      "text/plain": [
       "<Figure size 1080x360 with 2 Axes>"
      ]
     },
     "metadata": {
      "needs_background": "light"
     },
     "output_type": "display_data"
    }
   ],
   "source": [
    "plt.rcParams[\"figure.figsize\"] = (15,5)\n",
    "fig, axes = plt.subplots(nrows=1, ncols=2)\n",
    "\n",
    "df_avg_type.plot.bar(x ='ContractType',y='SalaryNormalized', ax = axes[0],rot=0)\n",
    "\n",
    "df_avg_time.plot.bar(x ='ContractTime',y='SalaryNormalized', ax = axes[1],rot=0)\n"
   ]
  },
  {
   "cell_type": "markdown",
   "id": "graduate-arbitration",
   "metadata": {},
   "source": [
    " No big difference between contract or permanent. There does seem to be a difference between full time and partime."
   ]
  },
  {
   "cell_type": "markdown",
   "id": "married-affiliation",
   "metadata": {},
   "source": [
    "## Filling in NaN values"
   ]
  },
  {
   "cell_type": "code",
   "execution_count": 190,
   "id": "recorded-annual",
   "metadata": {},
   "outputs": [
    {
     "data": {
      "text/plain": [
       "Id                    0\n",
       "Title                 0\n",
       "FullDescription       0\n",
       "LocationRaw           0\n",
       "LocationNormalized    0\n",
       "ContractType          0\n",
       "ContractTime          0\n",
       "Company               0\n",
       "Category              0\n",
       "SalaryRaw             0\n",
       "SalaryNormalized      0\n",
       "SourceName            0\n",
       "dtype: int64"
      ]
     },
     "execution_count": 190,
     "metadata": {},
     "output_type": "execute_result"
    }
   ],
   "source": [
    "df_train.ContractType = df_train.ContractType.fillna('Missing')\n",
    "df_train.ContractTime = df_train.ContractTime.fillna('Missing')\n",
    "df_train.Company = df_train.Company.fillna('Missing')\n",
    "df_train = df_train.dropna()\n",
    "df_train.isnull().sum()\n"
   ]
  },
  {
   "cell_type": "markdown",
   "id": "acquired-conversion",
   "metadata": {},
   "source": [
    "# NLP of the description"
   ]
  },
  {
   "cell_type": "code",
   "execution_count": 6,
   "id": "significant-usage",
   "metadata": {},
   "outputs": [
    {
     "name": "stderr",
     "output_type": "stream",
     "text": [
      "[nltk_data] Downloading package punkt to /home/jupyter/nltk_data...\n",
      "[nltk_data]   Package punkt is already up-to-date!\n",
      "[nltk_data] Downloading package stopwords to\n",
      "[nltk_data]     /home/jupyter/nltk_data...\n",
      "[nltk_data]   Package stopwords is already up-to-date!\n",
      "[nltk_data] Downloading package wordnet to /home/jupyter/nltk_data...\n",
      "[nltk_data]   Package wordnet is already up-to-date!\n"
     ]
    }
   ],
   "source": [
    "nltk.download('punkt')\n",
    "nltk.download('stopwords')\n",
    "nltk.download('wordnet')\n",
    "from nltk.corpus import stopwords\n",
    "from nltk.tokenize import word_tokenize  \n",
    "from nltk.tokenize import RegexpTokenizer\n",
    "from nltk.stem import WordNetLemmatizer \n",
    "\n",
    "stop_words = stopwords.words('english')\n",
    "stop_words.append('k')\n",
    "tokenizer = RegexpTokenizer(r'\\w+')"
   ]
  },
  {
   "cell_type": "markdown",
   "id": "pediatric-receiver",
   "metadata": {},
   "source": [
    "## Define functions for preprocessing"
   ]
  },
  {
   "cell_type": "code",
   "execution_count": 9,
   "id": "optical-bumper",
   "metadata": {},
   "outputs": [],
   "source": [
    "def make_train_test(df_train, size, split):\n",
    "    \n",
    "    train_size =slice( 0,round(size*split))\n",
    "    test_size = slice(round(size*split)+1 ,size+1)\n",
    "\n",
    "    description = df_train.FullDescription\n",
    "    Salary = df_train.SalaryNormalized\n",
    "\n",
    "    train = description[train_size]\n",
    "    test = description[test_size]\n",
    "\n",
    "    y_train = Salary[train_size]\n",
    "    y_test = Salary[test_size]\n",
    "    \n",
    "    return( train, test , y_train, y_test)"
   ]
  },
  {
   "cell_type": "code",
   "execution_count": 10,
   "id": "assured-emperor",
   "metadata": {},
   "outputs": [],
   "source": [
    "#remove stop words\n",
    "def remove_stop_words(bag, unique):\n",
    "    # tokenize\n",
    "    tokenizer = RegexpTokenizer(r'\\w+')\n",
    "    word_tokens = tokenizer.tokenize(bag)\n",
    "    \n",
    "    words = []\n",
    "    for word in word_tokens:\n",
    "        words.append(word.lower())\n",
    "    # Get unique words only\n",
    "    if unique:\n",
    "        words_set = set(words)\n",
    "        words = list(words_set)\n",
    "    \n",
    "    no_stop_words = [w for w in words if not w in stop_words] \n",
    "    \n",
    "    return no_stop_words"
   ]
  },
  {
   "cell_type": "code",
   "execution_count": 11,
   "id": "impossible-church",
   "metadata": {},
   "outputs": [],
   "source": [
    "# Lemmatize the words  \n",
    "\n",
    "def lemmatize_words(no_stop_words):\n",
    "    \n",
    "    lemma = WordNetLemmatizer() \n",
    "    lemma_words = []\n",
    "\n",
    "    for w in no_stop_words:\n",
    "        lemma_words.append(lemma.lemmatize(w))\n",
    "    \n",
    "    return lemma_words"
   ]
  },
  {
   "cell_type": "code",
   "execution_count": 12,
   "id": "reported-vatican",
   "metadata": {},
   "outputs": [],
   "source": [
    "def create_vocab(train):\n",
    "    vocab = []\n",
    "    for index, row in train.items():\n",
    "\n",
    "        no_stop_words = remove_stop_words(row, unique=False)\n",
    "        lemma_words = lemmatize_words(no_stop_words)\n",
    "\n",
    "        vocab.append(lemma_words)\n",
    "    return vocab"
   ]
  },
  {
   "cell_type": "code",
   "execution_count": 13,
   "id": "tamil-honey",
   "metadata": {},
   "outputs": [],
   "source": [
    "def get_max_length(X_train, X_test):\n",
    "    lengths =[]\n",
    "    for x in X_test:\n",
    "        lengths.append(len(x))\n",
    "    for x in X_train:\n",
    "        lengths.append(len(x))\n",
    "\n",
    "    max_length = max(lengths)\n",
    "    \n",
    "    return max_length"
   ]
  },
  {
   "cell_type": "code",
   "execution_count": 14,
   "id": "extraordinary-feature",
   "metadata": {},
   "outputs": [],
   "source": [
    "def prep_data(train,test): \n",
    "    # Preprocess train set and make a vocabulary\n",
    "    vocab = create_vocab(train)\n",
    "\n",
    "    # create dictionary of TRAIN text\n",
    "    tokenizer = Tokenizer()\n",
    "    tokenizer.fit_on_texts(vocab)\n",
    "\n",
    "    # Preprocess train and test set\n",
    "    pre_train = create_vocab(train)\n",
    "    pre_test = create_vocab(test)\n",
    "\n",
    "    # Convert text to indexed list\n",
    "    X_train = tokenizer.texts_to_sequences(pre_train)\n",
    "    X_test = tokenizer.texts_to_sequences(pre_test)\n",
    "    vocab = tokenizer.word_index\n",
    "    \n",
    "    return X_train, X_test, vocab"
   ]
  },
  {
   "cell_type": "code",
   "execution_count": 15,
   "id": "strong-cheese",
   "metadata": {},
   "outputs": [],
   "source": [
    "def padding(*argv): # X_train, X_test\n",
    "    if len(argv) == 1:\n",
    "        X_train = argv[0]\n",
    "        \n",
    "        lengths =[]\n",
    "        for x in X_train:\n",
    "            lengths.append(len(x))\n",
    "            \n",
    "        max_length = max(lengths)\n",
    "            \n",
    "        X_train_padded = tf.keras.preprocessing.sequence.pad_sequences(X_train,maxlen=max_length, padding='post')\n",
    "        \n",
    "        return X_train_padded\n",
    "      \n",
    "    else:\n",
    "        X_train = argv[0]\n",
    "        X_test = argv[1]\n",
    "        max_length = get_max_length(X_train, X_test)\n",
    "        \n",
    "        X_train_padded = tf.keras.preprocessing.sequence.pad_sequences(X_train,maxlen=max_length, padding='post')\n",
    "        X_test_padded = tf.keras.preprocessing.sequence.pad_sequences(X_test, maxlen=max_length, padding='post')\n",
    "        \n",
    "        return X_train_padded, X_test_padded"
   ]
  },
  {
   "cell_type": "code",
   "execution_count": null,
   "id": "computational-bones",
   "metadata": {},
   "outputs": [],
   "source": []
  },
  {
   "cell_type": "code",
   "execution_count": 218,
   "id": "specialized-plaza",
   "metadata": {},
   "outputs": [],
   "source": []
  },
  {
   "cell_type": "markdown",
   "id": "charitable-azerbaijan",
   "metadata": {},
   "source": [
    "## Prepare input data"
   ]
  },
  {
   "cell_type": "code",
   "execution_count": 16,
   "id": "silver-legislation",
   "metadata": {},
   "outputs": [],
   "source": [
    "# Create train and test sets\n",
    "\n",
    "size = 100\n",
    "split = 0.8\n",
    "\n",
    "# Creates a training and test split\n",
    "train, test, y_train, y_test = make_train_test(df_train, size, split)\n",
    "\n",
    "# Takes text, preprocesses, uses X_train to create a dictionary, and fits train and test on the dictionary\n",
    "X_train, X_test, vocab = prep_data(train,test)\n",
    "\n",
    "# Finds the longest sequence in train and test and creates a padded sequence\n",
    "X_train_padded, X_test_padded = padding(X_train, X_test)"
   ]
  },
  {
   "cell_type": "code",
   "execution_count": null,
   "id": "connected-munich",
   "metadata": {},
   "outputs": [],
   "source": []
  },
  {
   "cell_type": "markdown",
   "id": "limiting-yukon",
   "metadata": {},
   "source": [
    "## Prepare target data"
   ]
  },
  {
   "cell_type": "code",
   "execution_count": 17,
   "id": "proprietary-terror",
   "metadata": {},
   "outputs": [],
   "source": [
    "# Train on whether salary is > 25000 or not\n",
    "\n",
    "y_binary_train = y_train < 25000\n",
    "y_binary_train = (y_binary_train*1).values\n",
    "\n",
    "y_binary_test = y_test < 25000\n",
    "y_binary_test = (y_binary_test*1).values"
   ]
  },
  {
   "cell_type": "code",
   "execution_count": 18,
   "id": "little-night",
   "metadata": {},
   "outputs": [
    {
     "name": "stdout",
     "output_type": "stream",
     "text": [
      "Train ratio is 0.4\n",
      "Test ratio is 0.65\n"
     ]
    }
   ],
   "source": [
    "# Check ratio of 0s and 1s\n",
    "\n",
    "print('Train ratio is {}'.format(sum(y_binary_train)/len(y_binary_train)))\n",
    "print('Test ratio is {}'.format(sum(y_binary_test)/len(y_binary_test)))"
   ]
  },
  {
   "cell_type": "markdown",
   "id": "prerequisite-league",
   "metadata": {},
   "source": [
    "# Classification model"
   ]
  },
  {
   "cell_type": "code",
   "execution_count": 19,
   "id": "large-reward",
   "metadata": {},
   "outputs": [
    {
     "name": "stderr",
     "output_type": "stream",
     "text": [
      "Using TensorFlow backend.\n"
     ]
    }
   ],
   "source": [
    "from keras.models import Sequential\n",
    "from keras.layers import Embedding\n",
    "from keras.layers import Flatten\n",
    "from keras.layers import Dense\n",
    "\n",
    "max_len = X_train_padded.shape[1]\n",
    "vocab_size = len(vocab) + 1"
   ]
  },
  {
   "cell_type": "code",
   "execution_count": 21,
   "id": "stable-click",
   "metadata": {},
   "outputs": [
    {
     "name": "stdout",
     "output_type": "stream",
     "text": [
      "Model: \"sequential\"\n",
      "_________________________________________________________________\n",
      "Layer (type)                 Output Shape              Param #   \n",
      "=================================================================\n",
      "embedding (Embedding)        (None, 390, 8)            17672     \n",
      "_________________________________________________________________\n",
      "flatten (Flatten)            (None, 3120)              0         \n",
      "_________________________________________________________________\n",
      "dense (Dense)                (None, 1)                 3121      \n",
      "=================================================================\n",
      "Total params: 20,793\n",
      "Trainable params: 20,793\n",
      "Non-trainable params: 0\n",
      "_________________________________________________________________\n",
      "None\n"
     ]
    }
   ],
   "source": [
    "# define the model\n",
    "model = Sequential()\n",
    "model.add(Embedding(vocab_size, 8, input_length=max_len))\n",
    "model.add(Flatten())\n",
    "model.add(Dense(1, activation='sigmoid'))\n",
    "# compile the model\n",
    "model.compile(optimizer='adam', loss='binary_crossentropy', metrics=['accuracy'])\n",
    "# summarize the model\n",
    "print(model.summary())"
   ]
  },
  {
   "cell_type": "markdown",
   "id": "offensive-vampire",
   "metadata": {},
   "source": [
    "## Train model"
   ]
  },
  {
   "cell_type": "code",
   "execution_count": 22,
   "id": "smaller-mechanics",
   "metadata": {},
   "outputs": [
    {
     "name": "stdout",
     "output_type": "stream",
     "text": [
      "Accuracy: 85.000002\n"
     ]
    }
   ],
   "source": [
    "# fit the model\n",
    "model.fit(X_train_padded, y_binary_train, epochs=50, verbose=0)\n",
    "# evaluate the model\n",
    "loss, accuracy = model.evaluate(X_test_padded, y_binary_test, verbose=0)\n",
    "print('Accuracy: %f' % (accuracy*100))"
   ]
  },
  {
   "cell_type": "markdown",
   "id": "proud-treasurer",
   "metadata": {},
   "source": [
    "# Regression Model"
   ]
  },
  {
   "cell_type": "code",
   "execution_count": 23,
   "id": "committed-volunteer",
   "metadata": {},
   "outputs": [],
   "source": [
    "from keras.wrappers.scikit_learn import KerasRegressor\n",
    "from sklearn.model_selection import cross_val_score\n",
    "from sklearn.model_selection import KFold\n",
    "from sklearn.preprocessing import StandardScaler\n",
    "from sklearn.pipeline import Pipeline"
   ]
  },
  {
   "cell_type": "code",
   "execution_count": 76,
   "id": "visible-theory",
   "metadata": {},
   "outputs": [],
   "source": [
    "# Create train and test sets\n",
    "\n",
    "size = 10000\n",
    "split = 0.8\n",
    "\n",
    "# Creates a training and test split\n",
    "train, test, y_train, y_test = make_train_test(df_train, size, split)\n",
    "\n",
    "# Takes text, preprocesses, uses X_train to create a dictionary, and fits train and test on the dictionary\n",
    "X_train, X_test, vocab = prep_data(train,test)\n",
    "\n",
    "# Finds the longest sequence in train and test and creates a padded sequence\n",
    "X_train_padded, X_test_padded = padding(X_train, X_test)"
   ]
  },
  {
   "cell_type": "code",
   "execution_count": 77,
   "id": "union-honduras",
   "metadata": {},
   "outputs": [],
   "source": [
    "max_len = X_train_padded.shape[1]\n",
    "vocab_size = len(vocab) + 1"
   ]
  },
  {
   "cell_type": "code",
   "execution_count": 84,
   "id": "statewide-blackjack",
   "metadata": {},
   "outputs": [],
   "source": [
    "def regression_model(vocab_size = vocab_size,max_len = max_len):\n",
    "    \n",
    "    model = Sequential()\n",
    "    model.add(Embedding(vocab_size, 8, input_length=max_len))\n",
    "    model.add(Flatten())\n",
    "    model.add(Dense(10, activation = 'relu'))\n",
    "    model.add(Dense(1, activation='linear'))\n",
    "    model.compile(loss='mean_squared_error', optimizer='adam')\n",
    "    \n",
    "    return model"
   ]
  },
  {
   "cell_type": "code",
   "execution_count": 85,
   "id": "figured-queue",
   "metadata": {},
   "outputs": [
    {
     "name": "stdout",
     "output_type": "stream",
     "text": [
      "Model: \"sequential_6\"\n",
      "_________________________________________________________________\n",
      "Layer (type)                 Output Shape              Param #   \n",
      "=================================================================\n",
      "embedding_6 (Embedding)      (None, 813, 8)            163424    \n",
      "_________________________________________________________________\n",
      "flatten_6 (Flatten)          (None, 6504)              0         \n",
      "_________________________________________________________________\n",
      "dense_4 (Dense)              (None, 10)                65050     \n",
      "_________________________________________________________________\n",
      "dense_5 (Dense)              (None, 1)                 11        \n",
      "=================================================================\n",
      "Total params: 228,485\n",
      "Trainable params: 228,485\n",
      "Non-trainable params: 0\n",
      "_________________________________________________________________\n"
     ]
    }
   ],
   "source": [
    "model = regression_model()\n",
    "model.summary()"
   ]
  },
  {
   "cell_type": "code",
   "execution_count": 86,
   "id": "understood-plant",
   "metadata": {},
   "outputs": [
    {
     "name": "stdout",
     "output_type": "stream",
     "text": [
      "MSE: 161919712.000000\n"
     ]
    }
   ],
   "source": [
    "# fit the model\n",
    "model.fit(X_train_padded, y_train.values, epochs=100, verbose=0)\n",
    "# evaluate the model\n",
    "loss = model.evaluate(X_test_padded, y_test.values, verbose=0)\n",
    "print('MSE: %f' % (loss))"
   ]
  },
  {
   "cell_type": "code",
   "execution_count": 87,
   "id": "electoral-machine",
   "metadata": {},
   "outputs": [
    {
     "name": "stdout",
     "output_type": "stream",
     "text": [
      "RMSE: 12724.767659961419\n"
     ]
    }
   ],
   "source": [
    "print('RMSE: {}'.format(np.sqrt(loss)))"
   ]
  },
  {
   "cell_type": "code",
   "execution_count": 88,
   "id": "equipped-quarter",
   "metadata": {},
   "outputs": [],
   "source": [
    "y_predict = model.predict(X_test_padded)"
   ]
  },
  {
   "cell_type": "code",
   "execution_count": 99,
   "id": "flush-delaware",
   "metadata": {},
   "outputs": [
    {
     "data": {
      "image/png": "[encoded data removed]",
      "text/plain": [
       "<Figure size 432x432 with 1 Axes>"
      ]
     },
     "metadata": {
      "needs_background": "light"
     },
     "output_type": "display_data"
    }
   ],
   "source": [
    "limits= [0,100000]\n",
    "fig = plt.figure(figsize = (6,6))  # create a figure object\n",
    "ax = fig.add_subplot(1, 1, 1)  # create an axes object in the figure\n",
    "ax.plot(y_test.values, y_predict, 'b.')\n",
    "ax.set_ylabel('Y_prediction')\n",
    "ax.set_xlabel('Y_test')\n",
    "ax.set_xlim(limits)\n",
    "ax.set_ylim(limits)\n",
    "plt.grid()\n",
    "plt.show()"
   ]
  },
  {
   "cell_type": "markdown",
   "id": "animated-record",
   "metadata": {},
   "source": [
    "## Hypertune the model"
   ]
  },
  {
   "cell_type": "code",
   "execution_count": null,
   "id": "ecological-tournament",
   "metadata": {},
   "outputs": [],
   "source": [
    "# evaluate model\n",
    "estimator = KerasRegressor(build_fn=regression_model, epochs=50, batch_size=1, verbose=0)\n",
    "kfold = KFold(n_splits=10)\n",
    "\n",
    "results = cross_val_score(estimator, X, Y, cv=kfold)\n",
    "\n",
    "print(\"Baseline: %.2f (%.2f) MSE\" % (results.mean(), results.std()))"
   ]
  },
  {
   "cell_type": "code",
   "execution_count": null,
   "id": "chief-hydrogen",
   "metadata": {},
   "outputs": [],
   "source": []
  },
  {
   "cell_type": "code",
   "execution_count": null,
   "id": "retired-scenario",
   "metadata": {},
   "outputs": [],
   "source": []
  },
  {
   "cell_type": "code",
   "execution_count": null,
   "id": "waiting-friday",
   "metadata": {},
   "outputs": [],
   "source": []
  },
  {
   "cell_type": "code",
   "execution_count": null,
   "id": "first-concentration",
   "metadata": {},
   "outputs": [],
   "source": []
  },
  {
   "cell_type": "code",
   "execution_count": null,
   "id": "interpreted-impression",
   "metadata": {},
   "outputs": [],
   "source": []
  },
  {
   "cell_type": "markdown",
   "id": "terminal-eligibility",
   "metadata": {},
   "source": [
    "\n"
   ]
  },
  {
   "cell_type": "code",
   "execution_count": null,
   "id": "ordered-pressure",
   "metadata": {},
   "outputs": [],
   "source": []
  }
 ],
 "metadata": {
  "environment": {
   "name": "tf2-gpu.2-3.mnightly-2021-01-20-debian-10-test",
   "type": "gcloud",
   "uri": "gcr.io/deeplearning-platform-release/tf2-gpu.2-3:mnightly-2021-01-20-debian-10-test"
  },
  "kernelspec": {
   "display_name": "Python 3",
   "language": "python",
   "name": "python3"
  },
  "language_info": {
   "codemirror_mode": {
    "name": "ipython",
    "version": 3
   },
   "file_extension": ".py",
   "mimetype": "text/x-python",
   "name": "python",
   "nbconvert_exporter": "python",
   "pygments_lexer": "ipython3",
   "version": "3.7.9"
  }
 },
 "nbformat": 4,
 "nbformat_minor": 5
}
