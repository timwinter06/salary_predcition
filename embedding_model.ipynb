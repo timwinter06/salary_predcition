{
 "cells": [
  {
   "cell_type": "code",
   "execution_count": null,
   "id": "serious-heaven",
   "metadata": {},
   "outputs": [],
   "source": [
    "#!pip install --upgrade gensim"
   ]
  },
  {
   "cell_type": "code",
   "execution_count": 1,
   "id": "tutorial-notion",
   "metadata": {},
   "outputs": [],
   "source": [
    "# imports\n",
    "import pandas as pd\n",
    "import numpy as np\n",
    "from google.cloud import storage\n",
    "import matplotlib.pyplot as plt\n",
    "import tensorflow as tf\n",
    "from tensorflow.keras.preprocessing.text import Tokenizer\n",
    "import nltk\n",
    "import gensim.downloader as api\n",
    "\n",
    "%matplotlib inline"
   ]
  },
  {
   "cell_type": "code",
   "execution_count": 2,
   "id": "cooperative-daniel",
   "metadata": {},
   "outputs": [
    {
     "name": "stdout",
     "output_type": "stream",
     "text": [
      "['2011_Travel_to_Work_Areas_summary_statistics_V5.csv', 'Location_Tree.csv', 'Test_rev1.csv', 'Train_rev1.csv', 'Valid_rev1.csv', 'X_test_padded', 'X_train_padded', 'X_val_padded', 'data_location_buckets.csv', 'mean_benchmark.csv', 'random_forest_benchmark_test_rev1.csv', 'test.csv', 'vocab_size', 'y_test', 'y_train', 'y_val']\n"
     ]
    }
   ],
   "source": [
    "# Get files from GCS bucket\n",
    "BUCKET_NAME = 'salary-data'\n",
    "client = storage.Client()\n",
    "bucket = client.get_bucket(BUCKET_NAME)\n",
    "\n",
    "blobs = bucket.list_blobs()\n",
    "files = []\n",
    "for blob in blobs:\n",
    "    files.append(blob.name)\n",
    "    \n",
    "print(files)"
   ]
  },
  {
   "cell_type": "code",
   "execution_count": 3,
   "id": "beneficial-rental",
   "metadata": {},
   "outputs": [],
   "source": [
    "# Read data\n",
    "df_TTWA = pd.read_csv('gs://{}/{}'.format(BUCKET_NAME,files[0]))\n",
    "df_train = pd.read_csv('gs://{}/{}'.format(BUCKET_NAME,files[3]))\n",
    "\n"
   ]
  },
  {
   "cell_type": "code",
   "execution_count": null,
   "id": "contained-bradford",
   "metadata": {},
   "outputs": [],
   "source": []
  },
  {
   "cell_type": "code",
   "execution_count": null,
   "id": "spiritual-hughes",
   "metadata": {},
   "outputs": [],
   "source": [
    "from functions_6 import TTWA_county_feature\n",
    "df_loc = TTWA_county_feature(df_train,df_TTWA,True) \n"
   ]
  },
  {
   "cell_type": "code",
   "execution_count": null,
   "id": "insured-daughter",
   "metadata": {},
   "outputs": [],
   "source": [
    "TTWA_county = df_loc.TTWA_County\n",
    "df_all = pd.concat([df_train, TTWA_county], axis = 1)\n",
    "df_all"
   ]
  },
  {
   "cell_type": "code",
   "execution_count": null,
   "id": "right-parliament",
   "metadata": {},
   "outputs": [],
   "source": [
    "client = storage.Client()\n",
    "bucket = client.get_bucket(BUCKET_NAME)\n",
    "bucket.blob('data_location_buckets.csv').upload_from_string(df_all.to_csv(), 'text/csv')"
   ]
  },
  {
   "cell_type": "markdown",
   "id": "saved-affect",
   "metadata": {},
   "source": [
    "## Deal with NaN values"
   ]
  },
  {
   "cell_type": "code",
   "execution_count": 4,
   "id": "acting-remedy",
   "metadata": {},
   "outputs": [
    {
     "data": {
      "text/plain": [
       "Id                    0\n",
       "Title                 0\n",
       "FullDescription       0\n",
       "LocationRaw           0\n",
       "LocationNormalized    0\n",
       "ContractType          0\n",
       "ContractTime          0\n",
       "Company               0\n",
       "Category              0\n",
       "SalaryRaw             0\n",
       "SalaryNormalized      0\n",
       "SourceName            0\n",
       "dtype: int64"
      ]
     },
     "execution_count": 4,
     "metadata": {},
     "output_type": "execute_result"
    }
   ],
   "source": [
    "# Fill in missing values for Contract and Company\n",
    "df_all =df_train\n",
    "df_all.ContractType = df_train.ContractType.fillna('Missing')\n",
    "df_all.ContractTime = df_train.ContractTime.fillna('Missing')\n",
    "df_all.Company = df_train.Company.fillna('Missing')\n",
    "# Drop other NaN values\n",
    "df_all = df_all.dropna()\n",
    "df_all.isnull().sum()"
   ]
  },
  {
   "cell_type": "code",
   "execution_count": null,
   "id": "young-folder",
   "metadata": {},
   "outputs": [],
   "source": []
  },
  {
   "cell_type": "markdown",
   "id": "southeast-macro",
   "metadata": {},
   "source": [
    "## NLP of Description"
   ]
  },
  {
   "cell_type": "code",
   "execution_count": 34,
   "id": "educational-drain",
   "metadata": {},
   "outputs": [],
   "source": [
    "import functions_12 as fn\n",
    "from nltk.tokenize import RegexpTokenizer\n",
    "from sklearn.model_selection import train_test_split"
   ]
  },
  {
   "cell_type": "code",
   "execution_count": 35,
   "id": "private-shame",
   "metadata": {},
   "outputs": [],
   "source": [
    "df_train = df_all"
   ]
  },
  {
   "cell_type": "code",
   "execution_count": 36,
   "id": "exclusive-binding",
   "metadata": {},
   "outputs": [],
   "source": [
    "def first_NLP(df):\n",
    "    word_list = []\n",
    "    for index, row in df.iterrows():\n",
    "        bag = row.FullDescription\n",
    "        ns = fn.remove_stop_words(bag, unique = False)\n",
    "        lemma = fn.lemmatize_words(ns)\n",
    "        word_list.append(lemma)\n",
    "    return word_list"
   ]
  },
  {
   "cell_type": "code",
   "execution_count": 37,
   "id": "promising-phenomenon",
   "metadata": {},
   "outputs": [],
   "source": [
    "# Create a train, val, test split\n",
    "\n",
    "X_train_full, X_test, y_train_full, y_test = train_test_split(\n",
    "                                df_train.drop(['SalaryNormalized','SalaryRaw'], axis =1),\n",
    "                                df_train.SalaryNormalized, test_size=0.2, random_state=42)\n",
    "\n",
    "X_train, X_val, y_train, y_val = train_test_split(\n",
    "                                                X_train_full,\n",
    "                                                y_train_full, test_size=0.2, random_state=42)"
   ]
  },
  {
   "cell_type": "code",
   "execution_count": null,
   "id": "greek-luther",
   "metadata": {},
   "outputs": [],
   "source": [
    "# Remove grammer, capitals, and stop words\n",
    "X_train_words = first_NLP(X_train)\n",
    "X_val_words = first_NLP(X_val)\n",
    "X_test_words = first_NLP(X_test)"
   ]
  },
  {
   "cell_type": "code",
   "execution_count": null,
   "id": "promotional-recording",
   "metadata": {},
   "outputs": [],
   "source": []
  },
  {
   "cell_type": "code",
   "execution_count": null,
   "id": "varying-giant",
   "metadata": {},
   "outputs": [],
   "source": [
    "# create dictionary of only the TRAIN text\n",
    "tokenizer = Tokenizer()\n",
    "tokenizer.fit_on_texts(X_train_words)\n",
    "word_dictionary = tokenizer.word_index\n",
    "size_of_vocabulary=len(tokenizer.word_index) + 1 #+1 for padding"
   ]
  },
  {
   "cell_type": "code",
   "execution_count": null,
   "id": "secure-basket",
   "metadata": {},
   "outputs": [],
   "source": [
    "# Convert text to indexed list\n",
    "X_train_seq = tokenizer.texts_to_sequences(X_train_words)\n",
    "X_val_seq = tokenizer.texts_to_sequences(X_val_words)\n",
    "X_test_seq = tokenizer.texts_to_sequences(X_test_words)"
   ]
  },
  {
   "cell_type": "code",
   "execution_count": null,
   "id": "enhanced-wayne",
   "metadata": {},
   "outputs": [],
   "source": [
    "# Pad sequences\n",
    "\n",
    "max_length = fn.get_max_length(X_train_seq, X_test_seq, X_val_seq)\n",
    "\n",
    "X_train_padded = tf.keras.preprocessing.sequence.pad_sequences(X_train_seq,maxlen=max_length, padding='post')\n",
    "X_test_padded = tf.keras.preprocessing.sequence.pad_sequences(X_test_seq,maxlen=max_length, padding='post')\n",
    "X_val_padded = tf.keras.preprocessing.sequence.pad_sequences(X_val_seq,maxlen=max_length, padding='post')"
   ]
  },
  {
   "cell_type": "markdown",
   "id": "entire-steering",
   "metadata": {},
   "source": [
    "## Save/ Load data"
   ]
  },
  {
   "cell_type": "code",
   "execution_count": 5,
   "id": "resident-valley",
   "metadata": {},
   "outputs": [],
   "source": [
    "import json\n",
    "# data = tokenizer.word_index\n",
    "file = './word_index.json' \n",
    "# with open(file, 'w') as f:  \n",
    "#     json.dump(data, f)\n",
    "\n",
    "with open(file) as f:\n",
    "    word_index = json.load(f)"
   ]
  },
  {
   "cell_type": "code",
   "execution_count": 6,
   "id": "laden-active",
   "metadata": {},
   "outputs": [],
   "source": [
    "# df_X_train =  pd.DataFrame(X_train_padded)\n",
    "# df_X_test = pd.DataFrame(X_test_padded)\n",
    "# df_X_val = pd.DataFrame(X_val_padded)\n",
    "# df_size_vocab = pd.DataFrame([size_of_vocabulary])\n",
    "\n",
    "# bucket.blob('X_train_padded').upload_from_string(df_X_train.to_csv())\n",
    "# bucket.blob('X_test_padded').upload_from_string(df_X_test.to_csv())\n",
    "# bucket.blob('X_val_padded').upload_from_string(df_X_val.to_csv())\n",
    "# bucket.blob('vocab_size').upload_from_string(df_size_vocab.to_csv())\n",
    "# bucket.blob('y_train').upload_from_string(y_train.to_csv())\n",
    "# bucket.blob('y_test').upload_from_string(y_test.to_csv())\n",
    "# bucket.blob('y_val').upload_from_string(y_val.to_csv())\n",
    "\n",
    "df_X_train = pd.read_csv('gs://{}/{}'.format(BUCKET_NAME,'X_train_padded'))\n",
    "df_X_test = pd.read_csv('gs://{}/{}'.format(BUCKET_NAME,'X_test_padded'))\n",
    "df_X_val = pd.read_csv('gs://{}/{}'.format(BUCKET_NAME,'X_val_padded'))\n",
    "df_size_vocab = pd.read_csv('gs://{}/{}'.format(BUCKET_NAME,'vocab_size'))\n",
    "y_train = pd.read_csv('gs://{}/{}'.format(BUCKET_NAME,'y_train'))\n",
    "y_test = pd.read_csv('gs://{}/{}'.format(BUCKET_NAME,'y_test'))\n",
    "y_val = pd.read_csv('gs://{}/{}'.format(BUCKET_NAME,'y_val'))\n",
    "\n",
    "X_train_padded = df_X_train.to_numpy()[:,1:]\n",
    "X_test_padded = df_X_test.to_numpy()[:,1:]\n",
    "X_val_padded = df_X_val.to_numpy()[:,1:]\n",
    "size_of_vocabulary = df_size_vocab.to_numpy()[0][1]\n",
    "max_length = X_train_padded.shape[1]"
   ]
  },
  {
   "cell_type": "code",
   "execution_count": 7,
   "id": "proof-graph",
   "metadata": {},
   "outputs": [],
   "source": [
    "y_train = pd.read_csv('gs://{}/{}'.format(BUCKET_NAME,'y_train'))\n",
    "y_test = pd.read_csv('gs://{}/{}'.format(BUCKET_NAME,'y_test'))\n",
    "y_val = pd.read_csv('gs://{}/{}'.format(BUCKET_NAME,'y_val'))\n",
    "\n",
    "y_train = y_train['SalaryNormalized'].values\n",
    "y_test = y_test['SalaryNormalized'].values\n",
    "y_val = y_val['SalaryNormalized'].values"
   ]
  },
  {
   "cell_type": "code",
   "execution_count": null,
   "id": "nervous-format",
   "metadata": {},
   "outputs": [],
   "source": []
  },
  {
   "cell_type": "code",
   "execution_count": null,
   "id": "urban-procedure",
   "metadata": {},
   "outputs": [],
   "source": []
  },
  {
   "cell_type": "markdown",
   "id": "cathedral-montreal",
   "metadata": {},
   "source": [
    "## Load the GloVe embeddings and make a dictionary"
   ]
  },
  {
   "cell_type": "code",
   "execution_count": 8,
   "id": "declared-water",
   "metadata": {},
   "outputs": [],
   "source": [
    "# Load word embeddings from GloVe\n",
    "glove_model = api.load('glove-twitter-25')"
   ]
  },
  {
   "cell_type": "code",
   "execution_count": 9,
   "id": "organized-keyboard",
   "metadata": {},
   "outputs": [],
   "source": [
    "embeddings_index = dict()\n",
    "glove_dict = glove_model.vocab\n",
    "\n",
    "for key, value in glove_dict.items():\n",
    "    word = key\n",
    "    coef = glove_model[key]\n",
    "    embeddings_index[word] = coef\n",
    "    \n",
    "# create a weight matrix for words in training docs\n",
    "embedding_matrix = np.zeros((size_of_vocabulary, 25))\n",
    "for word, i in word_index.items():\n",
    "    embedding_vector = embeddings_index.get(word)\n",
    "    if embedding_vector is not None:\n",
    "        embedding_matrix[i] = embedding_vector"
   ]
  },
  {
   "cell_type": "markdown",
   "id": "light-support",
   "metadata": {},
   "source": [
    "## Make data-set smaller"
   ]
  },
  {
   "cell_type": "code",
   "execution_count": 10,
   "id": "alternative-fever",
   "metadata": {},
   "outputs": [
    {
     "name": "stdout",
     "output_type": "stream",
     "text": [
      "True\n",
      "True\n",
      "True\n"
     ]
    }
   ],
   "source": [
    "# Make data set smaller\n",
    "ratio = 20\n",
    "X_train_small = X_train_padded[0:X_train_padded.shape[0]//ratio,:]\n",
    "y_train_small = y_train[0:y_train.shape[0]//ratio]\n",
    "X_test_small = X_test_padded[0:X_test_padded.shape[0]//ratio,:]\n",
    "y_test_small = y_test[0:y_test.shape[0]//ratio]\n",
    "X_val_small = X_val_padded[0:X_val_padded.shape[0]//ratio,:]\n",
    "y_val_small = y_val[0:y_val.shape[0]//ratio]\n",
    "\n",
    "# Check shapes are the same\n",
    "print(X_train_small.shape[0] == y_train_small.shape[0])\n",
    "print(X_test_small.shape[0] == y_test_small.shape[0])\n",
    "print(X_val_small.shape[0] == y_val_small.shape[0])"
   ]
  },
  {
   "cell_type": "markdown",
   "id": "major-riding",
   "metadata": {},
   "source": [
    "## Create model"
   ]
  },
  {
   "cell_type": "code",
   "execution_count": 11,
   "id": "considered-forestry",
   "metadata": {},
   "outputs": [
    {
     "name": "stderr",
     "output_type": "stream",
     "text": [
      "Using TensorFlow backend.\n"
     ]
    }
   ],
   "source": [
    "from tensorflow import keras\n",
    "import tensorflow as tf\n",
    "from keras import layers\n",
    "from keras import Sequential\n",
    "from tensorflow.keras.callbacks import EarlyStopping\n",
    "from keras.layers.convolutional import Conv1D\n",
    "from keras.layers.convolutional import MaxPooling1D"
   ]
  },
  {
   "cell_type": "code",
   "execution_count": 24,
   "id": "warming-brown",
   "metadata": {},
   "outputs": [
    {
     "name": "stdout",
     "output_type": "stream",
     "text": [
      "Model: \"sequential_1\"\n",
      "_________________________________________________________________\n",
      "Layer (type)                 Output Shape              Param #   \n",
      "=================================================================\n",
      "embedding_1 (Embedding)      (None, 1267, 25)          3742725   \n",
      "_________________________________________________________________\n",
      "conv1d_1 (Conv1D)            (None, 1263, 100)         12600     \n",
      "_________________________________________________________________\n",
      "max_pooling1d_1 (MaxPooling1 (None, 631, 100)          0         \n",
      "_________________________________________________________________\n",
      "flatten_1 (Flatten)          (None, 63100)             0         \n",
      "_________________________________________________________________\n",
      "dense_2 (Dense)              (None, 30)                1893030   \n",
      "_________________________________________________________________\n",
      "dense_3 (Dense)              (None, 1)                 31        \n",
      "=================================================================\n",
      "Total params: 5,648,386\n",
      "Trainable params: 5,648,386\n",
      "Non-trainable params: 0\n",
      "_________________________________________________________________\n",
      "None\n"
     ]
    }
   ],
   "source": [
    "#batch_size  = 32\n",
    "\n",
    "model = Sequential()\n",
    "#model.add(layers.Embedding(size_of_vocabulary, 25, weights=[embedding_matrix], input_length=max_length, trainable=False)) # Pretrained\n",
    "model.add(layers.Embedding(size_of_vocabulary, 25,  input_length=max_length)) # Not pretrained\n",
    "\n",
    "model.add(Conv1D(filters=100, kernel_size=5, activation='relu'))\n",
    "model.add(MaxPooling1D(pool_size=2))\n",
    "\n",
    "model.add(layers.Flatten())\n",
    "\n",
    "model.add(layers.Dense(30, activation = 'relu'))\n",
    "#model.add(layers.Dense(30, activation = 'relu'))\n",
    "\n",
    "model.add(layers.Dense(1, activation='linear'))\n",
    "model.compile(loss='mean_squared_error', optimizer='adam')\n",
    "print(model.summary())\n",
    "\n"
   ]
  },
  {
   "cell_type": "markdown",
   "id": "cardiac-conviction",
   "metadata": {},
   "source": [
    "## Train model "
   ]
  },
  {
   "cell_type": "code",
   "execution_count": 25,
   "id": "saved-librarian",
   "metadata": {},
   "outputs": [
    {
     "name": "stdout",
     "output_type": "stream",
     "text": [
      "Epoch 1/20\n",
      "245/245 [==============================] - 48s 195ms/step - loss: 560304704.0000 - val_loss: 318285952.0000\n",
      "Epoch 2/20\n",
      "245/245 [==============================] - 46s 190ms/step - loss: 277277760.0000 - val_loss: 261687104.0000\n",
      "Epoch 3/20\n",
      "245/245 [==============================] - 48s 194ms/step - loss: 214085952.0000 - val_loss: 205427920.0000\n",
      "Epoch 4/20\n",
      "245/245 [==============================] - 47s 193ms/step - loss: 168853024.0000 - val_loss: 182278528.0000\n",
      "Epoch 5/20\n",
      "245/245 [==============================] - 47s 192ms/step - loss: 141814272.0000 - val_loss: 170604128.0000\n",
      "Epoch 6/20\n",
      "245/245 [==============================] - 47s 190ms/step - loss: 122724584.0000 - val_loss: 162755056.0000\n",
      "Epoch 7/20\n",
      "245/245 [==============================] - 48s 194ms/step - loss: 108620816.0000 - val_loss: 159675456.0000\n",
      "Epoch 8/20\n",
      "245/245 [==============================] - 49s 199ms/step - loss: 97131552.0000 - val_loss: 159496880.0000\n",
      "Epoch 9/20\n",
      "245/245 [==============================] - 46s 189ms/step - loss: 87721528.0000 - val_loss: 161940672.0000\n",
      "Epoch 00009: early stopping\n"
     ]
    }
   ],
   "source": [
    "# fit the model\n",
    "epochs = 20\n",
    "es = EarlyStopping(monitor='val_loss', mode='min', verbose=1)\n",
    "history = model.fit(X_train_small, y_train_small, epochs=epochs, verbose=1,\n",
    "         validation_data=(X_val_small, y_val_small), callbacks = es)"
   ]
  },
  {
   "cell_type": "markdown",
   "id": "designing-ghost",
   "metadata": {},
   "source": [
    "## Evaluate model "
   ]
  },
  {
   "cell_type": "code",
   "execution_count": 26,
   "id": "infinite-intention",
   "metadata": {},
   "outputs": [
    {
     "name": "stdout",
     "output_type": "stream",
     "text": [
      "77/77 [==============================] - 5s 65ms/step - loss: 167962112.0000\n",
      "MSE: 167962112.0\n",
      "RMSE: 12960.019753071367\n"
     ]
    }
   ],
   "source": [
    "# evaluate the model\n",
    "loss = model.evaluate(X_test_small, y_test_small, verbose=1)\n",
    "print('MSE: {}'.format(loss))\n",
    "print('RMSE: {}'.format(np.sqrt(loss)))\n",
    "# Save RMSEs of different models\n"
   ]
  },
  {
   "cell_type": "code",
   "execution_count": 27,
   "id": "backed-hartford",
   "metadata": {},
   "outputs": [
    {
     "name": "stdout",
     "output_type": "stream",
     "text": [
      "18184.81936916256\n"
     ]
    }
   ],
   "source": [
    "# Check the RMSE when the y_pred is just the mean value of the salary\n",
    "y_mean = np.mean(y_train_small)\n",
    "rmse_mean = np.sqrt(np.mean((y_test_small-y_mean)**2))\n",
    "print(rmse_mean)\n",
    "# save_rmse.append(rmse_mean)\n",
    "# save_rmse[4] = rmse_mean"
   ]
  },
  {
   "cell_type": "code",
   "execution_count": 28,
   "id": "indonesian-teacher",
   "metadata": {},
   "outputs": [],
   "source": [
    "#save_rmse = [] \n",
    "save_rmse.append(np.round(np.sqrt(loss)))"
   ]
  },
  {
   "cell_type": "code",
   "execution_count": 33,
   "id": "underlying-excess",
   "metadata": {},
   "outputs": [
    {
     "data": {
      "text/plain": [
       "[16281.0, 12960.0]"
      ]
     },
     "execution_count": 33,
     "metadata": {},
     "output_type": "execute_result"
    }
   ],
   "source": [
    "save_rmse\n"
   ]
  },
  {
   "cell_type": "code",
   "execution_count": 34,
   "id": "enabling-lawrence",
   "metadata": {},
   "outputs": [
    {
     "data": {
      "image/png": "[encoded data removed]",
      "text/plain": [
       "<Figure size 576x432 with 1 Axes>"
      ]
     },
     "metadata": {
      "needs_background": "light"
     },
     "output_type": "display_data"
    }
   ],
   "source": [
    "fig = plt.figure(figsize = (8,6))  \n",
    "ax = fig.add_subplot(1, 1, 1)  \n",
    "ax.plot(range(9), history.history['loss'], label = 'Loss')\n",
    "ax.plot(range(9), history.history['val_loss'], label = 'Val. loss')\n",
    "ax.legend()\n",
    "ax.set_ylabel('MSE')\n",
    "ax.set_xlabel('Epoch')\n",
    "# ax.set_xlim(limits)\n",
    "# ax.set_ylim(limits)\n",
    "plt.grid()\n",
    "plt.show()"
   ]
  },
  {
   "cell_type": "markdown",
   "id": "foster-safety",
   "metadata": {},
   "source": [
    "## Prediction"
   ]
  },
  {
   "cell_type": "code",
   "execution_count": 35,
   "id": "promising-socket",
   "metadata": {},
   "outputs": [
    {
     "name": "stdout",
     "output_type": "stream",
     "text": [
      "77/77 [==============================] - 5s 59ms/step\n"
     ]
    }
   ],
   "source": [
    "y_predict = model.predict(X_test_small, verbose = 1)"
   ]
  },
  {
   "cell_type": "code",
   "execution_count": 36,
   "id": "mobile-testament",
   "metadata": {},
   "outputs": [
    {
     "name": "stdout",
     "output_type": "stream",
     "text": [
      "0.5009127220686438\n"
     ]
    }
   ],
   "source": [
    "from sklearn.linear_model import LinearRegression\n",
    "reg = LinearRegression().fit(y_test_small.reshape(-1, 1), y_predict.reshape(-1, 1))\n",
    "print(reg.score(y_test_small.reshape(-1, 1), y_predict.reshape(-1, 1)))\n",
    "lin_reg = reg.predict(y_test_small.reshape(-1,1))\n"
   ]
  },
  {
   "cell_type": "code",
   "execution_count": 38,
   "id": "billion-madrid",
   "metadata": {},
   "outputs": [
    {
     "data": {
      "image/png": "[encoded data removed]",
      "text/plain": [
       "<Figure size 432x432 with 1 Axes>"
      ]
     },
     "metadata": {
      "needs_background": "light"
     },
     "output_type": "display_data"
    }
   ],
   "source": [
    "limits= [0,120000]\n",
    "fig = plt.figure(figsize = (6,6))  \n",
    "ax = fig.add_subplot(1, 1, 1)  \n",
    "ax.plot(y_test_small, y_predict, 'b.')\n",
    "ax.plot(y_test_small,lin_reg,'r')\n",
    "ax.set_ylabel('Y_prediction')\n",
    "ax.set_xlabel('Y_test')\n",
    "ax.set_xlim(limits)\n",
    "ax.set_ylim(limits)\n",
    "plt.grid()\n",
    "plt.show()"
   ]
  }
 ],
 "metadata": {
  "environment": {
   "name": "tf2-gpu.2-3.mnightly-2021-01-20-debian-10-test",
   "type": "gcloud",
   "uri": "gcr.io/deeplearning-platform-release/tf2-gpu.2-3:mnightly-2021-01-20-debian-10-test"
  },
  "kernelspec": {
   "display_name": "Python 3",
   "language": "python",
   "name": "python3"
  },
  "language_info": {
   "codemirror_mode": {
    "name": "ipython",
    "version": 3
   },
   "file_extension": ".py",
   "mimetype": "text/x-python",
   "name": "python",
   "nbconvert_exporter": "python",
   "pygments_lexer": "ipython3",
   "version": "3.7.9"
  }
 },
 "nbformat": 4,
 "nbformat_minor": 5
}
