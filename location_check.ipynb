{
 "cells": [
  {
   "cell_type": "code",
   "execution_count": 1,
   "id": "emotional-broadcasting",
   "metadata": {},
   "outputs": [],
   "source": [
    "# imports\n",
    "import pandas as pd\n",
    "import numpy as np\n",
    "from google.cloud import storage\n",
    "import matplotlib.pyplot as plt\n",
    "import tensorflow as tf\n",
    "from tensorflow.keras.preprocessing.text import Tokenizer\n",
    "\n",
    "import nltk\n",
    "\n",
    "import geopy\n",
    "from geopy.geocoders import Nominatim\n",
    "\n",
    "import folium\n",
    "from folium import FeatureGroup, LayerControl, Map, Marker\n",
    "from folium.plugins import HeatMap\n",
    "from folium.plugins import TimestampedGeoJson\n",
    "from folium.plugins import MarkerCluster\n",
    "\n",
    "%matplotlib inline\n",
    "\n",
    "import matplotlib.pyplot as plt\n",
    "plt.rcParams[\"figure.figsize\"] = (8,6)"
   ]
  },
  {
   "cell_type": "markdown",
   "id": "rolled-vision",
   "metadata": {},
   "source": [
    "# Load Files"
   ]
  },
  {
   "cell_type": "code",
   "execution_count": 2,
   "id": "placed-facial",
   "metadata": {},
   "outputs": [
    {
     "name": "stdout",
     "output_type": "stream",
     "text": [
      "['2011_Travel_to_Work_Areas_summary_statistics_V5.csv', 'Location_Tree.csv', 'Test_rev1.csv', 'Train_rev1.csv', 'Valid_rev1.csv', 'mean_benchmark.csv', 'random_forest_benchmark_test_rev1.csv', 'test.csv']\n"
     ]
    }
   ],
   "source": [
    "# Get files from GCS bucket\n",
    "\n",
    "BUCKET_NAME = 'salary-data'\n",
    "\n",
    "client = storage.Client()\n",
    "bucket = client.get_bucket(BUCKET_NAME)\n",
    "\n",
    "blobs = bucket.list_blobs()\n",
    "files = []\n",
    "for blob in blobs:\n",
    "    files.append(blob.name)\n",
    "\n",
    "print(files)"
   ]
  },
  {
   "cell_type": "code",
   "execution_count": 3,
   "id": "false-binary",
   "metadata": {},
   "outputs": [],
   "source": [
    "# Read data\n",
    "df_TTWA = pd.read_csv('gs://{}/{}'.format(BUCKET_NAME,files[0]))\n",
    "df_tree = pd.read_csv('gs://{}/{}'.format(BUCKET_NAME,files[1]))\n",
    "df_train = pd.read_csv('gs://{}/{}'.format(BUCKET_NAME,files[3]))"
   ]
  },
  {
   "cell_type": "markdown",
   "id": "resident-sponsorship",
   "metadata": {},
   "source": [
    "## Investigate Location values"
   ]
  },
  {
   "cell_type": "code",
   "execution_count": 109,
   "id": "naked-elder",
   "metadata": {},
   "outputs": [
    {
     "data": {
      "text/plain": [
       "'Banbury'"
      ]
     },
     "execution_count": 109,
     "metadata": {},
     "output_type": "execute_result"
    }
   ],
   "source": [
    "df_train.LocationNormalized.describe()\n",
    "\n",
    "norm_counts = df_train.LocationNormalized.value_counts()\n",
    "\n",
    "norm_counts[0:20].plot.barh()\n",
    "\n",
    "df_UK = df_train.loc[df_train.LocationNormalized == 'UK']\n",
    "df_london = df_train.loc[df_train.LocationNormalized == 'London']\n",
    "df_thecity = df_train.loc[df_train.LocationNormalized == 'The City']"
   ]
  },
  {
   "cell_type": "markdown",
   "id": "clear-fleece",
   "metadata": {},
   "source": [
    "## Match raw location to a TTWA"
   ]
  },
  {
   "cell_type": "code",
   "execution_count": 6,
   "id": "fuzzy-virgin",
   "metadata": {},
   "outputs": [],
   "source": [
    "# Function to find TTWA_names in raw locations\n",
    "def get_TTWA(TTWA_names, raw_location):\n",
    "    \n",
    "    indices = []\n",
    "    for i in range(0,len(TTWA_names)):\n",
    "        indices.append(raw_location[raw_location.str.contains(TTWA_names.iloc[i])].index)\n",
    "        \n",
    "    return indices"
   ]
  },
  {
   "cell_type": "code",
   "execution_count": 19,
   "id": "czech-slovenia",
   "metadata": {},
   "outputs": [],
   "source": [
    "TTWA_names = df_TTWA['TTWA Name']\n",
    "TTWA_names = TTWA_names.dropna()\n",
    "raw_location = df_train.LocationRaw"
   ]
  },
  {
   "cell_type": "code",
   "execution_count": 20,
   "id": "shared-bronze",
   "metadata": {},
   "outputs": [],
   "source": [
    "indices = get_TTWA(TTWA_names, raw_location)"
   ]
  },
  {
   "cell_type": "markdown",
   "id": "proof-monkey",
   "metadata": {},
   "source": [
    "Now to add an extra column to df_train with TTWA values"
   ]
  },
  {
   "cell_type": "code",
   "execution_count": 21,
   "id": "exterior-white",
   "metadata": {},
   "outputs": [
    {
     "name": "stderr",
     "output_type": "stream",
     "text": [
      "/opt/conda/lib/python3.7/site-packages/pandas/core/indexing.py:1637: SettingWithCopyWarning: \n",
      "A value is trying to be set on a copy of a slice from a DataFrame\n",
      "\n",
      "See the caveats in the documentation: https://pandas.pydata.org/pandas-docs/stable/user_guide/indexing.html#returning-a-view-versus-a-copy\n",
      "  self._setitem_single_block(indexer, value, name)\n"
     ]
    }
   ],
   "source": [
    "df_train['TTWA'] = np.nan\n",
    "\n",
    "for i in range(0,len(TTWA_names)):\n",
    "\n",
    "    df_train.TTWA.loc[indices[i]] = TTWA_names.iloc[i]"
   ]
  },
  {
   "cell_type": "markdown",
   "id": "lasting-plumbing",
   "metadata": {},
   "source": [
    "## Match raw location to county"
   ]
  },
  {
   "cell_type": "code",
   "execution_count": 23,
   "id": "sorted-hazard",
   "metadata": {},
   "outputs": [],
   "source": [
    "url = 'https://raw.githubusercontent.com/andreafalzetti/uk-counties-list/master/uk-counties/uk-counties-list.csv'\n",
    "counties = pd.read_csv(url, header = None)\n"
   ]
  },
  {
   "cell_type": "code",
   "execution_count": 24,
   "id": "devoted-steps",
   "metadata": {},
   "outputs": [
    {
     "data": {
      "text/html": [
       "<div>\n",
       "<style scoped>\n",
       "    .dataframe tbody tr th:only-of-type {\n",
       "        vertical-align: middle;\n",
       "    }\n",
       "\n",
       "    .dataframe tbody tr th {\n",
       "        vertical-align: top;\n",
       "    }\n",
       "\n",
       "    .dataframe thead th {\n",
       "        text-align: right;\n",
       "    }\n",
       "</style>\n",
       "<table border=\"1\" class=\"dataframe\">\n",
       "  <thead>\n",
       "    <tr style=\"text-align: right;\">\n",
       "      <th></th>\n",
       "      <th>Country</th>\n",
       "      <th>County</th>\n",
       "    </tr>\n",
       "  </thead>\n",
       "  <tbody>\n",
       "    <tr>\n",
       "      <th>0</th>\n",
       "      <td>England</td>\n",
       "      <td>Bedfordshire</td>\n",
       "    </tr>\n",
       "    <tr>\n",
       "      <th>1</th>\n",
       "      <td>England</td>\n",
       "      <td>Buckinghamshire</td>\n",
       "    </tr>\n",
       "    <tr>\n",
       "      <th>2</th>\n",
       "      <td>England</td>\n",
       "      <td>Cambridgeshire</td>\n",
       "    </tr>\n",
       "    <tr>\n",
       "      <th>3</th>\n",
       "      <td>England</td>\n",
       "      <td>Cheshire</td>\n",
       "    </tr>\n",
       "    <tr>\n",
       "      <th>4</th>\n",
       "      <td>England</td>\n",
       "      <td>Cleveland</td>\n",
       "    </tr>\n",
       "  </tbody>\n",
       "</table>\n",
       "</div>"
      ],
      "text/plain": [
       "   Country           County\n",
       "0  England     Bedfordshire\n",
       "1  England  Buckinghamshire\n",
       "2  England   Cambridgeshire\n",
       "3  England         Cheshire\n",
       "4  England        Cleveland"
      ]
     },
     "execution_count": 24,
     "metadata": {},
     "output_type": "execute_result"
    }
   ],
   "source": [
    "counties.columns = ['Country', 'County']\n",
    "counties.head()"
   ]
  },
  {
   "cell_type": "code",
   "execution_count": 25,
   "id": "packed-safety",
   "metadata": {},
   "outputs": [],
   "source": [
    "indices = get_TTWA(counties.County, raw_location)"
   ]
  },
  {
   "cell_type": "code",
   "execution_count": 26,
   "id": "filled-meaning",
   "metadata": {},
   "outputs": [
    {
     "name": "stderr",
     "output_type": "stream",
     "text": [
      "/opt/conda/lib/python3.7/site-packages/pandas/core/indexing.py:1637: SettingWithCopyWarning: \n",
      "A value is trying to be set on a copy of a slice from a DataFrame\n",
      "\n",
      "See the caveats in the documentation: https://pandas.pydata.org/pandas-docs/stable/user_guide/indexing.html#returning-a-view-versus-a-copy\n",
      "  self._setitem_single_block(indexer, value, name)\n"
     ]
    }
   ],
   "source": [
    "df_train['County'] = np.nan\n",
    "\n",
    "for i in range(0,len(counties)):\n",
    "\n",
    "    df_train.County.loc[indices[i]] = counties.County.iloc[i]"
   ]
  },
  {
   "cell_type": "markdown",
   "id": "latest-pattern",
   "metadata": {},
   "source": [
    "## Create one feature out of TTWA and county"
   ]
  },
  {
   "cell_type": "code",
   "execution_count": 39,
   "id": "geographic-congress",
   "metadata": {},
   "outputs": [
    {
     "name": "stderr",
     "output_type": "stream",
     "text": [
      "/opt/conda/lib/python3.7/site-packages/ipykernel_launcher.py:3: SettingWithCopyWarning: \n",
      "A value is trying to be set on a copy of a slice from a DataFrame.\n",
      "Try using .loc[row_indexer,col_indexer] = value instead\n",
      "\n",
      "See the caveats in the documentation: https://pandas.pydata.org/pandas-docs/stable/user_guide/indexing.html#returning-a-view-versus-a-copy\n",
      "  This is separate from the ipykernel package so we can avoid doing imports until\n",
      "/opt/conda/lib/python3.7/site-packages/pandas/core/series.py:963: SettingWithCopyWarning: \n",
      "A value is trying to be set on a copy of a slice from a DataFrame\n",
      "\n",
      "See the caveats in the documentation: https://pandas.pydata.org/pandas-docs/stable/user_guide/indexing.html#returning-a-view-versus-a-copy\n",
      "  self._where(~key, value, inplace=True)\n"
     ]
    }
   ],
   "source": [
    "df_Loc = df_train[['TTWA','County']]\n",
    "\n",
    "df_Loc['TTWA_County'] = df_Loc.TTWA\n",
    "df_Loc.TTWA_County[df_Loc.TTWA_County.isna()] = df_Loc.County[df_Loc.TTWA_County.isna()] "
   ]
  },
  {
   "cell_type": "code",
   "execution_count": null,
   "id": "trying-voice",
   "metadata": {},
   "outputs": [],
   "source": []
  },
  {
   "cell_type": "code",
   "execution_count": 44,
   "id": "immune-atlantic",
   "metadata": {},
   "outputs": [],
   "source": [
    "\n",
    "    "
   ]
  },
  {
   "cell_type": "code",
   "execution_count": null,
   "id": "convenient-worker",
   "metadata": {},
   "outputs": [],
   "source": []
  },
  {
   "cell_type": "code",
   "execution_count": null,
   "id": "veterinary-hands",
   "metadata": {},
   "outputs": [],
   "source": []
  }
 ],
 "metadata": {
  "environment": {
   "name": "tf2-gpu.2-3.mnightly-2021-01-20-debian-10-test",
   "type": "gcloud",
   "uri": "gcr.io/deeplearning-platform-release/tf2-gpu.2-3:mnightly-2021-01-20-debian-10-test"
  },
  "kernelspec": {
   "display_name": "Python 3",
   "language": "python",
   "name": "python3"
  },
  "language_info": {
   "codemirror_mode": {
    "name": "ipython",
    "version": 3
   },
   "file_extension": ".py",
   "mimetype": "text/x-python",
   "name": "python",
   "nbconvert_exporter": "python",
   "pygments_lexer": "ipython3",
   "version": "3.7.9"
  }
 },
 "nbformat": 4,
 "nbformat_minor": 5
}
