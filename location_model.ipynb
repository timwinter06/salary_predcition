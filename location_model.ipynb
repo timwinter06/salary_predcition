{
 "cells": [
  {
   "cell_type": "markdown",
   "id": "burning-average",
   "metadata": {},
   "source": [
    "This notebook tries to build a model with locationa as input."
   ]
  },
  {
   "cell_type": "code",
   "execution_count": 80,
   "id": "turkish-elimination",
   "metadata": {},
   "outputs": [],
   "source": [
    "# imports\n",
    "import pandas as pd\n",
    "import numpy as np\n",
    "from google.cloud import storage\n",
    "import matplotlib.pyplot as plt\n",
    "import tensorflow as tf\n",
    "from tensorflow.keras.preprocessing.text import Tokenizer\n",
    "from sklearn.preprocessing import OneHotEncoder\n",
    "from sklearn.model_selection import train_test_split\n",
    "from keras.layers import Dense\n",
    "from keras import layers\n",
    "from tensorflow.keras.callbacks import EarlyStopping\n",
    "\n",
    "from keras import Model\n",
    "from keras import Sequential\n",
    "from tensorflow import keras\n",
    "from tensorflow.keras import layers\n",
    "from keras import Input\n",
    "import nltk\n",
    "import matplotlib.pyplot as plt\n",
    "%matplotlib inline\n",
    "plt.rcParams[\"figure.figsize\"] = (8,6)"
   ]
  },
  {
   "cell_type": "markdown",
   "id": "thorough-poker",
   "metadata": {},
   "source": [
    "## Load data from GCS bucket"
   ]
  },
  {
   "cell_type": "code",
   "execution_count": 2,
   "id": "classified-hotel",
   "metadata": {},
   "outputs": [],
   "source": [
    "BUCKET_NAME = 'salary-data'\n",
    "client = storage.Client()\n",
    "bucket = client.get_bucket(BUCKET_NAME)\n",
    "df_train = pd.read_csv('gs://{}/{}'.format(BUCKET_NAME,'data_location_buckets.csv'))"
   ]
  },
  {
   "cell_type": "code",
   "execution_count": null,
   "id": "centered-packaging",
   "metadata": {},
   "outputs": [],
   "source": []
  },
  {
   "cell_type": "code",
   "execution_count": 96,
   "id": "confirmed-lloyd",
   "metadata": {},
   "outputs": [],
   "source": [
    "# Select only the location data\n",
    "#df_sub = df_train[['LocationNormalized','TTWA_County','SalaryNormalized']]\n",
    "df_sub = df_train[['Category','SalaryNormalized']]"
   ]
  },
  {
   "cell_type": "code",
   "execution_count": 10,
   "id": "second-scale",
   "metadata": {},
   "outputs": [
    {
     "name": "stderr",
     "output_type": "stream",
     "text": [
      "/opt/conda/lib/python3.7/site-packages/ipykernel_launcher.py:1: SettingWithCopyWarning: \n",
      "A value is trying to be set on a copy of a slice from a DataFrame.\n",
      "Try using .loc[row_indexer,col_indexer] = value instead\n",
      "\n",
      "See the caveats in the documentation: https://pandas.pydata.org/pandas-docs/stable/user_guide/indexing.html#returning-a-view-versus-a-copy\n",
      "  \"\"\"Entry point for launching an IPython kernel.\n",
      "/opt/conda/lib/python3.7/site-packages/ipykernel_launcher.py:2: SettingWithCopyWarning: \n",
      "A value is trying to be set on a copy of a slice from a DataFrame\n",
      "\n",
      "See the caveats in the documentation: https://pandas.pydata.org/pandas-docs/stable/user_guide/indexing.html#returning-a-view-versus-a-copy\n",
      "  \n",
      "/opt/conda/lib/python3.7/site-packages/pandas/core/series.py:963: SettingWithCopyWarning: \n",
      "A value is trying to be set on a copy of a slice from a DataFrame\n",
      "\n",
      "See the caveats in the documentation: https://pandas.pydata.org/pandas-docs/stable/user_guide/indexing.html#returning-a-view-versus-a-copy\n",
      "  self._where(~key, value, inplace=True)\n"
     ]
    }
   ],
   "source": [
    "df_sub['Final_location'] = df_sub.TTWA_County\n",
    "df_sub.Final_location[df_sub.TTWA_County.isna()] = df_sub.LocationNormalized[df_sub.TTWA_County.isna()]"
   ]
  },
  {
   "cell_type": "code",
   "execution_count": 99,
   "id": "raised-interpretation",
   "metadata": {},
   "outputs": [
    {
     "data": {
      "text/plain": [
       "count      244768\n",
       "unique         29\n",
       "top       IT Jobs\n",
       "freq        38483\n",
       "Name: Category, dtype: object"
      ]
     },
     "execution_count": 99,
     "metadata": {},
     "output_type": "execute_result"
    }
   ],
   "source": [
    "# Check unique locations\n",
    "# print(df_sub.TTWA_County.describe())\n",
    "# print(df_sub.Final_location.describe())\n"
   ]
  },
  {
   "cell_type": "markdown",
   "id": "square-lawyer",
   "metadata": {},
   "source": [
    "# Train model with TTWA_County location"
   ]
  },
  {
   "cell_type": "markdown",
   "id": "vocational-shift",
   "metadata": {},
   "source": [
    "## Prep data"
   ]
  },
  {
   "cell_type": "code",
   "execution_count": 100,
   "id": "pharmaceutical-flight",
   "metadata": {},
   "outputs": [],
   "source": [
    "# df_noNaN = df_sub.dropna()\n",
    "# X = df_noNaN.TTWA_County.values\n",
    "# y = df_noNaN.SalaryNormalized.values\n",
    "df_noNaN = df_sub.dropna()\n",
    "X = df_noNaN.Category.values\n",
    "y = df_noNaN.SalaryNormalized.values"
   ]
  },
  {
   "cell_type": "markdown",
   "id": "norwegian-checkout",
   "metadata": {},
   "source": [
    "Hot-encode the location"
   ]
  },
  {
   "cell_type": "code",
   "execution_count": 102,
   "id": "korean-webmaster",
   "metadata": {},
   "outputs": [],
   "source": [
    "enc = OneHotEncoder()\n",
    "X = enc.fit_transform(X.reshape(-1, 1))"
   ]
  },
  {
   "cell_type": "code",
   "execution_count": 103,
   "id": "moderate-projection",
   "metadata": {},
   "outputs": [],
   "source": [
    "X_train_full, X_test, y_train_full, y_test = train_test_split( X, y, test_size=0.2, random_state=42)\n",
    "\n",
    "X_train, X_val, y_train, y_val = train_test_split( X_train_full, y_train_full, test_size=0.2, random_state=42)"
   ]
  },
  {
   "cell_type": "markdown",
   "id": "altered-carbon",
   "metadata": {},
   "source": [
    "## Build model"
   ]
  },
  {
   "cell_type": "code",
   "execution_count": 65,
   "id": "handled-benchmark",
   "metadata": {},
   "outputs": [],
   "source": []
  },
  {
   "cell_type": "code",
   "execution_count": 106,
   "id": "nasty-wilderness",
   "metadata": {},
   "outputs": [
    {
     "name": "stdout",
     "output_type": "stream",
     "text": [
      "Model: \"functional_11\"\n",
      "_________________________________________________________________\n",
      "Layer (type)                 Output Shape              Param #   \n",
      "=================================================================\n",
      "input_8 (InputLayer)         [(None, 29)]              0         \n",
      "_________________________________________________________________\n",
      "dense_12 (Dense)             (None, 15)                450       \n",
      "_________________________________________________________________\n",
      "dense_13 (Dense)             (None, 1)                 16        \n",
      "=================================================================\n",
      "Total params: 466\n",
      "Trainable params: 466\n",
      "Non-trainable params: 0\n",
      "_________________________________________________________________\n"
     ]
    }
   ],
   "source": [
    "input_ = Input(shape=(X_train.shape[1]),)\n",
    "x = Dense(15, activation='relu')(input_)\n",
    "x = Dense(1, activation='linear')(x)\n",
    "x = Model(inputs=input_,outputs = x)\n",
    "\n",
    "x.summary()"
   ]
  },
  {
   "cell_type": "code",
   "execution_count": 107,
   "id": "willing-jesus",
   "metadata": {},
   "outputs": [],
   "source": [
    "x.compile(loss = 'mean_squared_error', optimizer = 'Adam')"
   ]
  },
  {
   "cell_type": "code",
   "execution_count": 108,
   "id": "cardiac-novelty",
   "metadata": {},
   "outputs": [
    {
     "name": "stdout",
     "output_type": "stream",
     "text": [
      "Epoch 1/10\n",
      "9791/9791 - 19s - loss: 1420822144.0000 - val_loss: 1330402944.0000\n",
      "Epoch 2/10\n",
      "9791/9791 - 20s - loss: 1184322048.0000 - val_loss: 1022712640.0000\n",
      "Epoch 3/10\n",
      "9791/9791 - 19s - loss: 840984000.0000 - val_loss: 664360768.0000\n",
      "Epoch 4/10\n",
      "9791/9791 - 22s - loss: 512325568.0000 - val_loss: 389378816.0000\n",
      "Epoch 5/10\n",
      "9791/9791 - 19s - loss: 323616576.0000 - val_loss: 291690240.0000\n",
      "Epoch 6/10\n",
      "9791/9791 - 19s - loss: 282692352.0000 - val_loss: 281683008.0000\n",
      "Epoch 7/10\n",
      "9791/9791 - 20s - loss: 276695104.0000 - val_loss: 277569088.0000\n",
      "Epoch 8/10\n",
      "9791/9791 - 17s - loss: 273341312.0000 - val_loss: 274997536.0000\n",
      "Epoch 9/10\n",
      "9791/9791 - 19s - loss: 271180384.0000 - val_loss: 273342880.0000\n",
      "Epoch 10/10\n",
      "9791/9791 - 20s - loss: 269758784.0000 - val_loss: 272242208.0000\n"
     ]
    }
   ],
   "source": [
    "es = EarlyStopping(monitor='val_loss', mode='min', verbose=1)\n",
    "epochs = 10\n",
    "batch_size = 16\n",
    "\n",
    "history = x.fit(X_train, y_train, epochs =epochs, batch_size = batch_size, verbose = 2, validation_data = (X_val, y_val),\n",
    "               callbacks = es)"
   ]
  },
  {
   "cell_type": "markdown",
   "id": "premium-level",
   "metadata": {},
   "source": [
    "## Evaluate and predict"
   ]
  },
  {
   "cell_type": "code",
   "execution_count": 91,
   "id": "juvenile-focus",
   "metadata": {},
   "outputs": [
    {
     "name": "stdout",
     "output_type": "stream",
     "text": [
      "1225/1225 [==============================] - 2s 2ms/step - loss: 267037920.0000\n"
     ]
    }
   ],
   "source": [
    "loss = x.evaluate(X_test, y_test,verbose =1)"
   ]
  },
  {
   "cell_type": "code",
   "execution_count": 92,
   "id": "parental-malpractice",
   "metadata": {},
   "outputs": [
    {
     "name": "stdout",
     "output_type": "stream",
     "text": [
      "Mean RMSE = 17219\n",
      "Model RMSE = 16341\n"
     ]
    }
   ],
   "source": [
    "y_mean = np.mean(y_train)\n",
    "rmse_mean = round(np.sqrt(np.mean((y_test-y_mean)**2)))\n",
    "print(\"Mean RMSE = {}\".format(rmse_mean))\n",
    "print(\"Model RMSE = {}\".format(round(np.sqrt(loss))))"
   ]
  },
  {
   "cell_type": "code",
   "execution_count": 93,
   "id": "abroad-yellow",
   "metadata": {},
   "outputs": [
    {
     "name": "stdout",
     "output_type": "stream",
     "text": [
      "1225/1225 [==============================] - 2s 1ms/step\n"
     ]
    }
   ],
   "source": [
    "y_pred = x.predict(X_test,verbose = 1)"
   ]
  },
  {
   "cell_type": "code",
   "execution_count": 94,
   "id": "editorial-favor",
   "metadata": {},
   "outputs": [
    {
     "data": {
      "image/png": "[encoded data removed]",
      "text/plain": [
       "<Figure size 432x432 with 1 Axes>"
      ]
     },
     "metadata": {
      "needs_background": "light"
     },
     "output_type": "display_data"
    }
   ],
   "source": [
    "limits= [0,120000]\n",
    "fig = plt.figure(figsize = (6,6))  \n",
    "ax = fig.add_subplot(1, 1, 1)  \n",
    "ax.plot(y_test, y_pred, 'b.')\n",
    "ax.set_ylabel('Y_prediction')\n",
    "ax.set_xlabel('Y_test')\n",
    "ax.set_xlim(limits)\n",
    "ax.set_ylim(limits)\n",
    "plt.grid()\n",
    "plt.show()"
   ]
  }
 ],
 "metadata": {
  "environment": {
   "name": "tf2-gpu.2-3.mnightly-2021-01-20-debian-10-test",
   "type": "gcloud",
   "uri": "gcr.io/deeplearning-platform-release/tf2-gpu.2-3:mnightly-2021-01-20-debian-10-test"
  },
  "kernelspec": {
   "display_name": "Python 3",
   "language": "python",
   "name": "python3"
  },
  "language_info": {
   "codemirror_mode": {
    "name": "ipython",
    "version": 3
   },
   "file_extension": ".py",
   "mimetype": "text/x-python",
   "name": "python",
   "nbconvert_exporter": "python",
   "pygments_lexer": "ipython3",
   "version": "3.7.9"
  }
 },
 "nbformat": 4,
 "nbformat_minor": 5
}
