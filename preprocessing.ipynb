{
 "cells": [
  {
   "cell_type": "code",
   "execution_count": null,
   "id": "muslim-adventure",
   "metadata": {},
   "outputs": [],
   "source": [
    "#!pip install --upgrade gensim"
   ]
  },
  {
   "cell_type": "code",
   "execution_count": 1,
   "id": "pressed-flesh",
   "metadata": {},
   "outputs": [],
   "source": [
    "# imports\n",
    "import pandas as pd\n",
    "import numpy as np\n",
    "from google.cloud import storage\n",
    "import matplotlib.pyplot as plt\n",
    "import tensorflow as tf\n",
    "from tensorflow.keras.preprocessing.text import Tokenizer\n",
    "import nltk\n",
    "import gensim.downloader as api\n",
    "\n",
    "%matplotlib inline"
   ]
  },
  {
   "cell_type": "code",
   "execution_count": 2,
   "id": "false-wings",
   "metadata": {},
   "outputs": [
    {
     "name": "stdout",
     "output_type": "stream",
     "text": [
      "['2011_Travel_to_Work_Areas_summary_statistics_V5.csv', 'Location_Tree.csv', 'Test_rev1.csv', 'Train_rev1.csv', 'Valid_rev1.csv', 'X_test_padded', 'X_train_padded', 'X_val_padded', 'data_location_buckets.csv', 'mean_benchmark.csv', 'random_forest_benchmark_test_rev1.csv', 'test.csv', 'vocab_size', 'y_test', 'y_train', 'y_val']\n"
     ]
    }
   ],
   "source": [
    "# Get files from GCS bucket\n",
    "BUCKET_NAME = 'salary-data'\n",
    "client = storage.Client()\n",
    "bucket = client.get_bucket(BUCKET_NAME)\n",
    "\n",
    "blobs = bucket.list_blobs()\n",
    "files = []\n",
    "for blob in blobs:\n",
    "    files.append(blob.name)\n",
    "    \n",
    "print(files)"
   ]
  },
  {
   "cell_type": "code",
   "execution_count": 32,
   "id": "complex-cabin",
   "metadata": {},
   "outputs": [],
   "source": [
    "# Read data\n",
    "df_TTWA = pd.read_csv('gs://{}/{}'.format(BUCKET_NAME,files[0]))\n",
    "df_train = pd.read_csv('gs://{}/{}'.format(BUCKET_NAME,files[3]))"
   ]
  },
  {
   "cell_type": "code",
   "execution_count": null,
   "id": "normal-fellow",
   "metadata": {},
   "outputs": [],
   "source": []
  },
  {
   "cell_type": "code",
   "execution_count": null,
   "id": "determined-leave",
   "metadata": {},
   "outputs": [],
   "source": [
    "from functions_6 import TTWA_county_feature\n",
    "df_loc = TTWA_county_feature(df_train,df_TTWA,True) \n"
   ]
  },
  {
   "cell_type": "code",
   "execution_count": null,
   "id": "removable-carnival",
   "metadata": {},
   "outputs": [],
   "source": [
    "TTWA_county = df_loc.TTWA_County\n",
    "df_all = pd.concat([df_train, TTWA_county], axis = 1)\n",
    "df_all"
   ]
  },
  {
   "cell_type": "code",
   "execution_count": null,
   "id": "fitting-taylor",
   "metadata": {},
   "outputs": [],
   "source": [
    "client = storage.Client()\n",
    "bucket = client.get_bucket(BUCKET_NAME)\n",
    "bucket.blob('data_location_buckets.csv').upload_from_string(df_all.to_csv(), 'text/csv')"
   ]
  },
  {
   "cell_type": "markdown",
   "id": "deadly-wrist",
   "metadata": {},
   "source": [
    "## Deal with NaN values"
   ]
  },
  {
   "cell_type": "code",
   "execution_count": 33,
   "id": "nominated-remains",
   "metadata": {},
   "outputs": [
    {
     "data": {
      "text/plain": [
       "Id                    0\n",
       "Title                 0\n",
       "FullDescription       0\n",
       "LocationRaw           0\n",
       "LocationNormalized    0\n",
       "ContractType          0\n",
       "ContractTime          0\n",
       "Company               0\n",
       "Category              0\n",
       "SalaryRaw             0\n",
       "SalaryNormalized      0\n",
       "SourceName            0\n",
       "dtype: int64"
      ]
     },
     "execution_count": 33,
     "metadata": {},
     "output_type": "execute_result"
    }
   ],
   "source": [
    "# Fill in missing values for Contract and Company\n",
    "df_all =df_train\n",
    "df_all.ContractType = df_train.ContractType.fillna('Missing')\n",
    "df_all.ContractTime = df_train.ContractTime.fillna('Missing')\n",
    "df_all.Company = df_train.Company.fillna('Missing')\n",
    "# Drop other NaN values\n",
    "df_all = df_all.dropna()\n",
    "df_all.isnull().sum()"
   ]
  },
  {
   "cell_type": "code",
   "execution_count": null,
   "id": "clinical-judgment",
   "metadata": {},
   "outputs": [],
   "source": []
  },
  {
   "cell_type": "markdown",
   "id": "ethical-respondent",
   "metadata": {},
   "source": [
    "## NLP of Description"
   ]
  },
  {
   "cell_type": "code",
   "execution_count": 34,
   "id": "surface-usage",
   "metadata": {},
   "outputs": [],
   "source": [
    "import functions_12 as fn\n",
    "from nltk.tokenize import RegexpTokenizer\n",
    "from sklearn.model_selection import train_test_split"
   ]
  },
  {
   "cell_type": "code",
   "execution_count": 35,
   "id": "impaired-prison",
   "metadata": {},
   "outputs": [],
   "source": [
    "df_train = df_all"
   ]
  },
  {
   "cell_type": "code",
   "execution_count": 36,
   "id": "earlier-wales",
   "metadata": {},
   "outputs": [],
   "source": [
    "def first_NLP(df):\n",
    "    word_list = []\n",
    "    for index, row in df.iterrows():\n",
    "        bag = row.FullDescription\n",
    "        ns = fn.remove_stop_words(bag, unique = False)\n",
    "        lemma = fn.lemmatize_words(ns)\n",
    "        word_list.append(lemma)\n",
    "    return word_list"
   ]
  },
  {
   "cell_type": "code",
   "execution_count": 37,
   "id": "mysterious-magic",
   "metadata": {},
   "outputs": [],
   "source": [
    "# Create a train, val, test split\n",
    "\n",
    "X_train_full, X_test, y_train_full, y_test = train_test_split(\n",
    "                                df_train.drop(['SalaryNormalized','SalaryRaw'], axis =1),\n",
    "                                df_train.SalaryNormalized, test_size=0.2, random_state=42)\n",
    "\n",
    "X_train, X_val, y_train, y_val = train_test_split(\n",
    "                                                X_train_full,\n",
    "                                                y_train_full, test_size=0.2, random_state=42)"
   ]
  },
  {
   "cell_type": "code",
   "execution_count": null,
   "id": "preceding-siemens",
   "metadata": {},
   "outputs": [],
   "source": [
    "# Remove grammer, capitals, and stop words\n",
    "X_train_words = first_NLP(X_train)\n",
    "X_val_words = first_NLP(X_val)\n",
    "X_test_words = first_NLP(X_test)"
   ]
  },
  {
   "cell_type": "code",
   "execution_count": null,
   "id": "romance-ready",
   "metadata": {},
   "outputs": [],
   "source": []
  },
  {
   "cell_type": "code",
   "execution_count": null,
   "id": "removable-stage",
   "metadata": {},
   "outputs": [],
   "source": [
    "# create dictionary of only the TRAIN text\n",
    "tokenizer = Tokenizer()\n",
    "tokenizer.fit_on_texts(X_train_words)\n",
    "word_dictionary = tokenizer.word_index\n",
    "size_of_vocabulary=len(tokenizer.word_index) + 1 #+1 for padding"
   ]
  },
  {
   "cell_type": "code",
   "execution_count": null,
   "id": "stylish-quarter",
   "metadata": {},
   "outputs": [],
   "source": [
    "# Convert text to indexed list\n",
    "X_train_seq = tokenizer.texts_to_sequences(X_train_words)\n",
    "X_val_seq = tokenizer.texts_to_sequences(X_val_words)\n",
    "X_test_seq = tokenizer.texts_to_sequences(X_test_words)"
   ]
  },
  {
   "cell_type": "code",
   "execution_count": null,
   "id": "middle-release",
   "metadata": {},
   "outputs": [],
   "source": [
    "# Pad sequences\n",
    "\n",
    "max_length = fn.get_max_length(X_train_seq, X_test_seq, X_val_seq)\n",
    "\n",
    "X_train_padded = tf.keras.preprocessing.sequence.pad_sequences(X_train_seq,maxlen=max_length, padding='post')\n",
    "X_test_padded = tf.keras.preprocessing.sequence.pad_sequences(X_test_seq,maxlen=max_length, padding='post')\n",
    "X_val_padded = tf.keras.preprocessing.sequence.pad_sequences(X_val_seq,maxlen=max_length, padding='post')"
   ]
  },
  {
   "cell_type": "markdown",
   "id": "human-isolation",
   "metadata": {},
   "source": [
    "## Save/ Load data"
   ]
  },
  {
   "cell_type": "code",
   "execution_count": 3,
   "id": "working-killer",
   "metadata": {},
   "outputs": [],
   "source": [
    "import json\n",
    "# data = tokenizer.word_index\n",
    "file = './word_index.json' \n",
    "# with open(file, 'w') as f:  \n",
    "#     json.dump(data, f)\n",
    "\n",
    "with open(file) as f:\n",
    "    word_index = json.load(f)"
   ]
  },
  {
   "cell_type": "code",
   "execution_count": 4,
   "id": "finite-haiti",
   "metadata": {},
   "outputs": [],
   "source": [
    "# df_X_train =  pd.DataFrame(X_train_padded)\n",
    "# df_X_test = pd.DataFrame(X_test_padded)\n",
    "# df_X_val = pd.DataFrame(X_val_padded)\n",
    "# df_size_vocab = pd.DataFrame([size_of_vocabulary])\n",
    "\n",
    "# bucket.blob('X_train_padded').upload_from_string(df_X_train.to_csv())\n",
    "# bucket.blob('X_test_padded').upload_from_string(df_X_test.to_csv())\n",
    "# bucket.blob('X_val_padded').upload_from_string(df_X_val.to_csv())\n",
    "# bucket.blob('vocab_size').upload_from_string(df_size_vocab.to_csv())\n",
    "# bucket.blob('y_train').upload_from_string(y_train.to_csv())\n",
    "# bucket.blob('y_test').upload_from_string(y_test.to_csv())\n",
    "# bucket.blob('y_val').upload_from_string(y_val.to_csv())\n",
    "\n",
    "df_X_train = pd.read_csv('gs://{}/{}'.format(BUCKET_NAME,'X_train_padded'))\n",
    "df_X_test = pd.read_csv('gs://{}/{}'.format(BUCKET_NAME,'X_test_padded'))\n",
    "df_X_val = pd.read_csv('gs://{}/{}'.format(BUCKET_NAME,'X_val_padded'))\n",
    "df_size_vocab = pd.read_csv('gs://{}/{}'.format(BUCKET_NAME,'vocab_size'))\n",
    "y_train = pd.read_csv('gs://{}/{}'.format(BUCKET_NAME,'y_train'))\n",
    "y_test = pd.read_csv('gs://{}/{}'.format(BUCKET_NAME,'y_test'))\n",
    "y_val = pd.read_csv('gs://{}/{}'.format(BUCKET_NAME,'y_val'))\n",
    "\n",
    "X_train_padded = df_X_train.to_numpy()[:,1:]\n",
    "X_test_padded = df_X_test.to_numpy()[:,1:]\n",
    "X_val_padded = df_X_val.to_numpy()[:,1:]\n",
    "size_of_vocabulary = df_size_vocab.to_numpy()[0][1]\n",
    "max_length = X_train_padded.shape[1]"
   ]
  },
  {
   "cell_type": "code",
   "execution_count": 5,
   "id": "natural-associate",
   "metadata": {},
   "outputs": [],
   "source": [
    "y_train = pd.read_csv('gs://{}/{}'.format(BUCKET_NAME,'y_train'))\n",
    "y_test = pd.read_csv('gs://{}/{}'.format(BUCKET_NAME,'y_test'))\n",
    "y_val = pd.read_csv('gs://{}/{}'.format(BUCKET_NAME,'y_val'))\n",
    "\n",
    "y_train = y_train['SalaryNormalized'].values\n",
    "y_test = y_test['SalaryNormalized'].values\n",
    "y_val = y_val['SalaryNormalized'].values"
   ]
  },
  {
   "cell_type": "code",
   "execution_count": null,
   "id": "noticed-michigan",
   "metadata": {},
   "outputs": [],
   "source": []
  },
  {
   "cell_type": "code",
   "execution_count": null,
   "id": "powered-belgium",
   "metadata": {},
   "outputs": [],
   "source": []
  },
  {
   "cell_type": "markdown",
   "id": "coordinate-delicious",
   "metadata": {},
   "source": [
    "## Load the GloVe embeddings and make a dictionary"
   ]
  },
  {
   "cell_type": "code",
   "execution_count": 6,
   "id": "leading-yorkshire",
   "metadata": {},
   "outputs": [],
   "source": [
    "# Load word embeddings from GloVe\n",
    "glove_model = api.load('glove-twitter-25')"
   ]
  },
  {
   "cell_type": "code",
   "execution_count": 7,
   "id": "expanded-circus",
   "metadata": {},
   "outputs": [],
   "source": [
    "embeddings_index = dict()\n",
    "glove_dict = glove_model.vocab\n",
    "\n",
    "for key, value in glove_dict.items():\n",
    "    word = key\n",
    "    coef = glove_model[key]\n",
    "    embeddings_index[word] = coef"
   ]
  },
  {
   "cell_type": "code",
   "execution_count": null,
   "id": "accessible-argument",
   "metadata": {},
   "outputs": [],
   "source": [
    "# print(glove_model.vectors[value.index]) \n",
    "# print(glove_model[key]) # array\n",
    "# print(key)# word\n",
    "# print(value.index) # \n",
    "# print(embeddings_index['i'])\n",
    "# print(glove_model['i'])"
   ]
  },
  {
   "cell_type": "code",
   "execution_count": 8,
   "id": "honest-vessel",
   "metadata": {},
   "outputs": [],
   "source": [
    "# create a weight matrix for words in training docs\n",
    "embedding_matrix = np.zeros((size_of_vocabulary, 25))\n",
    "for word, i in word_index.items():\n",
    "    embedding_vector = embeddings_index.get(word)\n",
    "    if embedding_vector is not None:\n",
    "        embedding_matrix[i] = embedding_vector"
   ]
  },
  {
   "cell_type": "markdown",
   "id": "agricultural-mobility",
   "metadata": {},
   "source": [
    "## Make data-set smaller"
   ]
  },
  {
   "cell_type": "code",
   "execution_count": 164,
   "id": "tired-focus",
   "metadata": {},
   "outputs": [
    {
     "name": "stdout",
     "output_type": "stream",
     "text": [
      "True\n",
      "True\n",
      "True\n"
     ]
    }
   ],
   "source": [
    "# Make data set smaller\n",
    "ratio = 10\n",
    "X_train_small = X_train_padded[0:X_train_padded.shape[0]//ratio,:]\n",
    "y_train_small = y_train[0:y_train.shape[0]//ratio]\n",
    "X_test_small = X_test_padded[0:X_test_padded.shape[0]//ratio,:]\n",
    "y_test_small = y_test[0:y_test.shape[0]//ratio]\n",
    "X_val_small = X_val_padded[0:X_val_padded.shape[0]//ratio,:]\n",
    "y_val_small = y_val[0:y_val.shape[0]//ratio]\n",
    "\n",
    "# Check shapes are the same\n",
    "print(X_train_small.shape[0] == y_train_small.shape[0])\n",
    "print(X_test_small.shape[0] == y_test_small.shape[0])\n",
    "print(X_val_small.shape[0] == y_val_small.shape[0])"
   ]
  },
  {
   "cell_type": "markdown",
   "id": "aquatic-triple",
   "metadata": {},
   "source": [
    "## Create model"
   ]
  },
  {
   "cell_type": "code",
   "execution_count": 125,
   "id": "advisory-video",
   "metadata": {},
   "outputs": [],
   "source": [
    "from tensorflow import keras\n",
    "import tensorflow as tf\n",
    "from keras import layers\n",
    "from keras import Sequential\n",
    "from tensorflow.keras.callbacks import EarlyStopping\n",
    "from keras.layers.convolutional import Conv1D\n",
    "from keras.layers.convolutional import MaxPooling1D"
   ]
  },
  {
   "cell_type": "code",
   "execution_count": 162,
   "id": "ahead-alpha",
   "metadata": {},
   "outputs": [
    {
     "name": "stdout",
     "output_type": "stream",
     "text": [
      "Model: \"sequential_13\"\n",
      "_________________________________________________________________\n",
      "Layer (type)                 Output Shape              Param #   \n",
      "=================================================================\n",
      "embedding_13 (Embedding)     (None, 1267, 25)          3742725   \n",
      "_________________________________________________________________\n",
      "conv1d_1 (Conv1D)            (None, 1263, 100)         12600     \n",
      "_________________________________________________________________\n",
      "max_pooling1d_1 (MaxPooling1 (None, 631, 100)          0         \n",
      "_________________________________________________________________\n",
      "flatten_11 (Flatten)         (None, 63100)             0         \n",
      "_________________________________________________________________\n",
      "dense_18 (Dense)             (None, 10)                631010    \n",
      "_________________________________________________________________\n",
      "dense_19 (Dense)             (None, 1)                 11        \n",
      "=================================================================\n",
      "Total params: 4,386,346\n",
      "Trainable params: 643,621\n",
      "Non-trainable params: 3,742,725\n",
      "_________________________________________________________________\n",
      "None\n"
     ]
    }
   ],
   "source": [
    "#batch_size  = 32\n",
    "\n",
    "model = Sequential()\n",
    "model.add(layers.Embedding(size_of_vocabulary, 25, weights=[embedding_matrix], input_length=max_length, trainable=False))\n",
    "\n",
    "model.add(Conv1D(filters=100, kernel_size=5, activation='relu'))\n",
    "model.add(MaxPooling1D(pool_size=2))\n",
    "\n",
    "model.add(layers.Flatten())\n",
    "\n",
    "model.add(layers.Dense(10, activation = 'relu'))\n",
    "#model.add(layers.Dense(10, activation = 'relu'))\n",
    "\n",
    "model.add(layers.Dense(1, activation='linear'))\n",
    "model.compile(loss='mean_squared_error', optimizer='adam')\n",
    "print(model.summary())\n",
    "\n"
   ]
  },
  {
   "cell_type": "markdown",
   "id": "assumed-inspection",
   "metadata": {},
   "source": [
    "## Train model "
   ]
  },
  {
   "cell_type": "code",
   "execution_count": 163,
   "id": "computational-minimum",
   "metadata": {},
   "outputs": [
    {
     "name": "stdout",
     "output_type": "stream",
     "text": [
      "Epoch 1/10\n",
      "490/490 [==============================] - 76s 155ms/step - loss: 551649344.0000 - val_loss: 306588288.0000\n",
      "Epoch 2/10\n",
      "490/490 [==============================] - 74s 150ms/step - loss: 297615584.0000 - val_loss: 285374336.0000\n",
      "Epoch 3/10\n",
      "490/490 [==============================] - 76s 155ms/step - loss: 280243168.0000 - val_loss: 274368928.0000\n",
      "Epoch 4/10\n",
      "490/490 [==============================] - 72s 147ms/step - loss: 270828864.0000 - val_loss: 268242208.0000\n",
      "Epoch 5/10\n",
      "490/490 [==============================] - 74s 151ms/step - loss: 264664160.0000 - val_loss: 264180624.0000\n",
      "Epoch 6/10\n",
      "490/490 [==============================] - 75s 154ms/step - loss: 260246960.0000 - val_loss: 261714160.0000\n",
      "Epoch 7/10\n",
      "490/490 [==============================] - 75s 153ms/step - loss: 256518272.0000 - val_loss: 258676656.0000\n",
      "Epoch 8/10\n",
      "490/490 [==============================] - 76s 156ms/step - loss: 254078032.0000 - val_loss: 257147280.0000\n",
      "Epoch 9/10\n",
      "490/490 [==============================] - 74s 152ms/step - loss: 251744064.0000 - val_loss: 256894656.0000\n",
      "Epoch 10/10\n",
      "490/490 [==============================] - 74s 152ms/step - loss: 250178816.0000 - val_loss: 255389696.0000\n"
     ]
    }
   ],
   "source": [
    "# fit the model\n",
    "epochs = 10\n",
    "es = EarlyStopping(monitor='val_loss', mode='min', verbose=1)\n",
    "history = model.fit(X_train_small, y_train_small, epochs=epochs, verbose=1,\n",
    "         validation_data=(X_val_small, y_val_small), callbacks = es)"
   ]
  },
  {
   "cell_type": "markdown",
   "id": "suited-indicator",
   "metadata": {},
   "source": [
    "## Evaluate model "
   ]
  },
  {
   "cell_type": "code",
   "execution_count": 165,
   "id": "prospective-touch",
   "metadata": {},
   "outputs": [
    {
     "name": "stdout",
     "output_type": "stream",
     "text": [
      "153/153 [==============================] - 10s 66ms/step - loss: 252522544.0000\n",
      "MSE: 252522544.0\n",
      "RMSE: 15890.957932107176\n"
     ]
    }
   ],
   "source": [
    "# evaluate the model\n",
    "loss = model.evaluate(X_test_small, y_test_small, verbose=1)\n",
    "print('MSE: {}'.format(loss))\n",
    "print('RMSE: {}'.format(np.sqrt(loss)))\n",
    "# Save RMSEs of different models\n",
    "#save_rmse = [] \n",
    "save_rmse.append(np.round(np.sqrt(loss)))"
   ]
  },
  {
   "cell_type": "code",
   "execution_count": 167,
   "id": "sharing-taxation",
   "metadata": {},
   "outputs": [],
   "source": [
    "# Check the RMSE when the y_pred is just the mean value of the salary\n",
    "y_mean = np.mean(y_train_small)\n",
    "rmse_mean = np.sqrt(np.mean((y_test_small-y_mean)**2))\n",
    "save_rmse[4] = rmse_mean\n",
    "# save_rmse.append(rmse_mean)"
   ]
  },
  {
   "cell_type": "code",
   "execution_count": 168,
   "id": "hungry-accessory",
   "metadata": {},
   "outputs": [
    {
     "name": "stdout",
     "output_type": "stream",
     "text": [
      "{'CNN_128_filters': 16035.0, 'No_HL': 32668.0, '1_HL': 17582.0, '2_HL': 17156.0, 'mean': 17773.193646460542, 'CNN_100_1HL': 15891.0}\n"
     ]
    }
   ],
   "source": [
    "\n",
    "dict_rmse = {\"CNN_128_filters\":save_rmse[0]\n",
    "              ,\"No_HL\":save_rmse[1]\n",
    "              ,\"1_HL\":save_rmse[2]\n",
    "              ,\"2_HL\":save_rmse[3]\n",
    "              ,\"mean\":save_rmse[4]\n",
    "              ,\"CNN_100_1HL\":save_rmse[5]\n",
    "            }\n",
    "print(dict_rmse)"
   ]
  },
  {
   "cell_type": "code",
   "execution_count": 169,
   "id": "collectible-summit",
   "metadata": {},
   "outputs": [
    {
     "data": {
      "image/png": "[encoded data removed]",
      "text/plain": [
       "<Figure size 576x432 with 1 Axes>"
      ]
     },
     "metadata": {
      "needs_background": "light"
     },
     "output_type": "display_data"
    }
   ],
   "source": [
    "fig = plt.figure(figsize = (8,6))  \n",
    "ax = fig.add_subplot(1, 1, 1)  \n",
    "ax.plot(range(epochs), history.history['loss'], label = 'Loss')\n",
    "ax.plot(range(epochs), history.history['val_loss'], label = 'Val. loss')\n",
    "ax.legend()\n",
    "ax.set_ylabel('MSE')\n",
    "ax.set_xlabel('Epoch')\n",
    "# ax.set_xlim(limits)\n",
    "# ax.set_ylim(limits)\n",
    "plt.grid()\n",
    "plt.show()"
   ]
  },
  {
   "cell_type": "markdown",
   "id": "interesting-raising",
   "metadata": {},
   "source": [
    "## Prediction"
   ]
  },
  {
   "cell_type": "code",
   "execution_count": 170,
   "id": "metropolitan-forum",
   "metadata": {},
   "outputs": [
    {
     "name": "stdout",
     "output_type": "stream",
     "text": [
      "153/153 [==============================] - 10s 66ms/step\n"
     ]
    }
   ],
   "source": [
    "y_predict = model.predict(X_test_small, verbose = 1)"
   ]
  },
  {
   "cell_type": "code",
   "execution_count": 184,
   "id": "unusual-walker",
   "metadata": {},
   "outputs": [
    {
     "name": "stdout",
     "output_type": "stream",
     "text": [
      "0.20595037570517327\n"
     ]
    }
   ],
   "source": [
    "from sklearn.linear_model import LinearRegression\n",
    "reg = LinearRegression().fit(y_test_small.reshape(-1, 1), y_predict.reshape(-1, 1))\n",
    "print(reg.score(y_test_small.reshape(-1, 1), y_predict.reshape(-1, 1)))\n",
    "lin_reg = reg.predict(y_test_small.reshape(-1,1))\n"
   ]
  },
  {
   "cell_type": "code",
   "execution_count": 182,
   "id": "supposed-repeat",
   "metadata": {},
   "outputs": [
    {
     "data": {
      "image/png": "[encoded data removed]",
      "text/plain": [
       "<Figure size 432x432 with 1 Axes>"
      ]
     },
     "metadata": {
      "needs_background": "light"
     },
     "output_type": "display_data"
    }
   ],
   "source": [
    "limits= [0,100000]\n",
    "fig = plt.figure(figsize = (6,6))  \n",
    "ax = fig.add_subplot(1, 1, 1)  \n",
    "ax.plot(y_test_small, y_predict, 'b.')\n",
    "ax.plot(y_test_small,lin_reg,'r')\n",
    "ax.set_ylabel('Y_prediction')\n",
    "ax.set_xlabel('Y_test')\n",
    "ax.set_xlim(limits)\n",
    "ax.set_ylim(limits)\n",
    "plt.grid()\n",
    "plt.show()"
   ]
  }
 ],
 "metadata": {
  "environment": {
   "name": "tf2-gpu.2-3.mnightly-2021-01-20-debian-10-test",
   "type": "gcloud",
   "uri": "gcr.io/deeplearning-platform-release/tf2-gpu.2-3:mnightly-2021-01-20-debian-10-test"
  },
  "kernelspec": {
   "display_name": "Python 3",
   "language": "python",
   "name": "python3"
  },
  "language_info": {
   "codemirror_mode": {
    "name": "ipython",
    "version": 3
   },
   "file_extension": ".py",
   "mimetype": "text/x-python",
   "name": "python",
   "nbconvert_exporter": "python",
   "pygments_lexer": "ipython3",
   "version": "3.7.9"
  }
 },
 "nbformat": 4,
 "nbformat_minor": 5
}
