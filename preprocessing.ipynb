{
 "cells": [
  {
   "cell_type": "code",
   "execution_count": null,
   "id": "cognitive-cincinnati",
   "metadata": {},
   "outputs": [],
   "source": [
    "#!pip install --upgrade gensim"
   ]
  },
  {
   "cell_type": "code",
   "execution_count": null,
   "id": "polish-syracuse",
   "metadata": {},
   "outputs": [],
   "source": [
    "# imports\n",
    "import pandas as pd\n",
    "import numpy as np\n",
    "from google.cloud import storage\n",
    "import matplotlib.pyplot as plt\n",
    "import tensorflow as tf\n",
    "from tensorflow.keras.preprocessing.text import Tokenizer\n",
    "import nltk\n",
    "import gensim.downloader as api\n",
    "\n",
    "%matplotlib inline"
   ]
  },
  {
   "cell_type": "code",
   "execution_count": null,
   "id": "historical-answer",
   "metadata": {},
   "outputs": [],
   "source": [
    "# Get files from GCS bucket\n",
    "BUCKET_NAME = 'salary-data'\n",
    "client = storage.Client()\n",
    "bucket = client.get_bucket(BUCKET_NAME)\n",
    "\n",
    "blobs = bucket.list_blobs()\n",
    "files = []\n",
    "for blob in blobs:\n",
    "    files.append(blob.name)\n",
    "    \n",
    "print(files)"
   ]
  },
  {
   "cell_type": "code",
   "execution_count": 32,
   "id": "creative-chorus",
   "metadata": {},
   "outputs": [],
   "source": [
    "# Read data\n",
    "df_TTWA = pd.read_csv('gs://{}/{}'.format(BUCKET_NAME,files[0]))\n",
    "df_train = pd.read_csv('gs://{}/{}'.format(BUCKET_NAME,files[3]))"
   ]
  },
  {
   "cell_type": "code",
   "execution_count": null,
   "id": "beginning-ordering",
   "metadata": {},
   "outputs": [],
   "source": []
  },
  {
   "cell_type": "code",
   "execution_count": null,
   "id": "wired-injury",
   "metadata": {},
   "outputs": [],
   "source": [
    "from functions_6 import TTWA_county_feature\n",
    "df_loc = TTWA_county_feature(df_train,df_TTWA,True) \n"
   ]
  },
  {
   "cell_type": "code",
   "execution_count": null,
   "id": "described-attribute",
   "metadata": {},
   "outputs": [],
   "source": [
    "TTWA_county = df_loc.TTWA_County\n",
    "df_all = pd.concat([df_train, TTWA_county], axis = 1)\n",
    "df_all"
   ]
  },
  {
   "cell_type": "code",
   "execution_count": null,
   "id": "deluxe-ballot",
   "metadata": {},
   "outputs": [],
   "source": [
    "client = storage.Client()\n",
    "bucket = client.get_bucket(BUCKET_NAME)\n",
    "bucket.blob('data_location_buckets.csv').upload_from_string(df_all.to_csv(), 'text/csv')"
   ]
  },
  {
   "cell_type": "markdown",
   "id": "cardiovascular-citizen",
   "metadata": {},
   "source": [
    "## Deal with NaN values"
   ]
  },
  {
   "cell_type": "code",
   "execution_count": 33,
   "id": "documentary-anthony",
   "metadata": {},
   "outputs": [
    {
     "data": {
      "text/plain": [
       "Id                    0\n",
       "Title                 0\n",
       "FullDescription       0\n",
       "LocationRaw           0\n",
       "LocationNormalized    0\n",
       "ContractType          0\n",
       "ContractTime          0\n",
       "Company               0\n",
       "Category              0\n",
       "SalaryRaw             0\n",
       "SalaryNormalized      0\n",
       "SourceName            0\n",
       "dtype: int64"
      ]
     },
     "execution_count": 33,
     "metadata": {},
     "output_type": "execute_result"
    }
   ],
   "source": [
    "# Fill in missing values for Contract and Company\n",
    "df_all =df_train\n",
    "df_all.ContractType = df_train.ContractType.fillna('Missing')\n",
    "df_all.ContractTime = df_train.ContractTime.fillna('Missing')\n",
    "df_all.Company = df_train.Company.fillna('Missing')\n",
    "# Drop other NaN values\n",
    "df_all = df_all.dropna()\n",
    "df_all.isnull().sum()"
   ]
  },
  {
   "cell_type": "code",
   "execution_count": null,
   "id": "particular-midnight",
   "metadata": {},
   "outputs": [],
   "source": []
  },
  {
   "cell_type": "markdown",
   "id": "every-demographic",
   "metadata": {},
   "source": [
    "## NLP of Description"
   ]
  },
  {
   "cell_type": "code",
   "execution_count": 34,
   "id": "settled-eagle",
   "metadata": {},
   "outputs": [],
   "source": [
    "import functions_12 as fn\n",
    "from nltk.tokenize import RegexpTokenizer\n",
    "from sklearn.model_selection import train_test_split"
   ]
  },
  {
   "cell_type": "code",
   "execution_count": 35,
   "id": "italic-leather",
   "metadata": {},
   "outputs": [],
   "source": [
    "df_train = df_all"
   ]
  },
  {
   "cell_type": "code",
   "execution_count": 36,
   "id": "aboriginal-teens",
   "metadata": {},
   "outputs": [],
   "source": [
    "def first_NLP(df):\n",
    "    word_list = []\n",
    "    for index, row in df.iterrows():\n",
    "        bag = row.FullDescription\n",
    "        ns = fn.remove_stop_words(bag, unique = False)\n",
    "        lemma = fn.lemmatize_words(ns)\n",
    "        word_list.append(lemma)\n",
    "    return word_list"
   ]
  },
  {
   "cell_type": "code",
   "execution_count": 37,
   "id": "signal-multiple",
   "metadata": {},
   "outputs": [],
   "source": [
    "# Create a train, val, test split\n",
    "\n",
    "X_train_full, X_test, y_train_full, y_test = train_test_split(\n",
    "                                df_train.drop(['SalaryNormalized','SalaryRaw'], axis =1),\n",
    "                                df_train.SalaryNormalized, test_size=0.2, random_state=42)\n",
    "\n",
    "X_train, X_val, y_train, y_val = train_test_split(\n",
    "                                                X_train_full,\n",
    "                                                y_train_full, test_size=0.2, random_state=42)"
   ]
  },
  {
   "cell_type": "code",
   "execution_count": null,
   "id": "fitted-southwest",
   "metadata": {},
   "outputs": [],
   "source": [
    "# Remove grammer, capitals, and stop words\n",
    "X_train_words = first_NLP(X_train)\n",
    "X_val_words = first_NLP(X_val)\n",
    "X_test_words = first_NLP(X_test)"
   ]
  },
  {
   "cell_type": "code",
   "execution_count": null,
   "id": "colonial-textbook",
   "metadata": {},
   "outputs": [],
   "source": []
  },
  {
   "cell_type": "code",
   "execution_count": null,
   "id": "random-liver",
   "metadata": {},
   "outputs": [],
   "source": [
    "# create dictionary of only the TRAIN text\n",
    "tokenizer = Tokenizer()\n",
    "tokenizer.fit_on_texts(X_train_words)\n",
    "word_dictionary = tokenizer.word_index\n",
    "size_of_vocabulary=len(tokenizer.word_index) + 1 #+1 for padding"
   ]
  },
  {
   "cell_type": "code",
   "execution_count": null,
   "id": "charitable-tokyo",
   "metadata": {},
   "outputs": [],
   "source": [
    "# Convert text to indexed list\n",
    "X_train_seq = tokenizer.texts_to_sequences(X_train_words)\n",
    "X_val_seq = tokenizer.texts_to_sequences(X_val_words)\n",
    "X_test_seq = tokenizer.texts_to_sequences(X_test_words)"
   ]
  },
  {
   "cell_type": "code",
   "execution_count": null,
   "id": "olive-private",
   "metadata": {},
   "outputs": [],
   "source": [
    "# Pad sequences\n",
    "\n",
    "max_length = fn.get_max_length(X_train_seq, X_test_seq, X_val_seq)\n",
    "\n",
    "X_train_padded = tf.keras.preprocessing.sequence.pad_sequences(X_train_seq,maxlen=max_length, padding='post')\n",
    "X_test_padded = tf.keras.preprocessing.sequence.pad_sequences(X_test_seq,maxlen=max_length, padding='post')\n",
    "X_val_padded = tf.keras.preprocessing.sequence.pad_sequences(X_val_seq,maxlen=max_length, padding='post')"
   ]
  },
  {
   "cell_type": "markdown",
   "id": "anticipated-religion",
   "metadata": {},
   "source": [
    "## Save/ Load data"
   ]
  },
  {
   "cell_type": "code",
   "execution_count": 13,
   "id": "illegal-african",
   "metadata": {},
   "outputs": [],
   "source": [
    "import json\n",
    "# data = tokenizer.word_index\n",
    "file = './word_index.json' \n",
    "# with open(file, 'w') as f:  \n",
    "#     json.dump(data, f)\n",
    "\n",
    "with open(file) as f:\n",
    "    word_index = json.load(f)"
   ]
  },
  {
   "cell_type": "code",
   "execution_count": 7,
   "id": "raising-acrylic",
   "metadata": {},
   "outputs": [],
   "source": [
    "# df_X_train =  pd.DataFrame(X_train_padded)\n",
    "# df_X_test = pd.DataFrame(X_test_padded)\n",
    "# df_X_val = pd.DataFrame(X_val_padded)\n",
    "# df_size_vocab = pd.DataFrame([size_of_vocabulary])\n",
    "\n",
    "# bucket.blob('X_train_padded').upload_from_string(df_X_train.to_csv())\n",
    "# bucket.blob('X_test_padded').upload_from_string(df_X_test.to_csv())\n",
    "# bucket.blob('X_val_padded').upload_from_string(df_X_val.to_csv())\n",
    "# bucket.blob('vocab_size').upload_from_string(df_size_vocab.to_csv())\n",
    "# bucket.blob('y_train').upload_from_string(y_train.to_csv())\n",
    "# bucket.blob('y_test').upload_from_string(y_test.to_csv())\n",
    "# bucket.blob('y_val').upload_from_string(y_val.to_csv())\n",
    "\n",
    "df_X_train = pd.read_csv('gs://{}/{}'.format(BUCKET_NAME,'X_train_padded'))\n",
    "df_X_test = pd.read_csv('gs://{}/{}'.format(BUCKET_NAME,'X_test_padded'))\n",
    "df_X_val = pd.read_csv('gs://{}/{}'.format(BUCKET_NAME,'X_val_padded'))\n",
    "df_size_vocab = pd.read_csv('gs://{}/{}'.format(BUCKET_NAME,'vocab_size'))\n",
    "y_train = pd.read_csv('gs://{}/{}'.format(BUCKET_NAME,'y_train'))\n",
    "y_test = pd.read_csv('gs://{}/{}'.format(BUCKET_NAME,'y_test'))\n",
    "y_val = pd.read_csv('gs://{}/{}'.format(BUCKET_NAME,'y_val'))\n",
    "\n",
    "X_train_padded = df_X_train.to_numpy()[:,1:]\n",
    "X_test_padded = df_X_test.to_numpy()[:,1:]\n",
    "X_val_padded = df_X_val.to_numpy()[:,1:]\n",
    "size_of_vocabulary = df_size_vocab.to_numpy()[0][1]\n",
    "max_length = X_train_padded.shape[1]"
   ]
  },
  {
   "cell_type": "code",
   "execution_count": 41,
   "id": "determined-privilege",
   "metadata": {},
   "outputs": [],
   "source": [
    "y_train = pd.read_csv('gs://{}/{}'.format(BUCKET_NAME,'y_train'))\n",
    "y_test = pd.read_csv('gs://{}/{}'.format(BUCKET_NAME,'y_test'))\n",
    "y_val = pd.read_csv('gs://{}/{}'.format(BUCKET_NAME,'y_val'))\n"
   ]
  },
  {
   "cell_type": "code",
   "execution_count": null,
   "id": "directed-deployment",
   "metadata": {},
   "outputs": [],
   "source": []
  },
  {
   "cell_type": "code",
   "execution_count": null,
   "id": "monetary-affair",
   "metadata": {},
   "outputs": [],
   "source": []
  },
  {
   "cell_type": "markdown",
   "id": "parental-abortion",
   "metadata": {},
   "source": [
    "## Load the GloVe embeddings and make a dictionary"
   ]
  },
  {
   "cell_type": "code",
   "execution_count": 8,
   "id": "unnecessary-appeal",
   "metadata": {},
   "outputs": [],
   "source": [
    "# Load word embeddings from GloVe\n",
    "glove_model = api.load('glove-twitter-25')"
   ]
  },
  {
   "cell_type": "code",
   "execution_count": 10,
   "id": "related-thompson",
   "metadata": {},
   "outputs": [],
   "source": [
    "embeddings_index = dict()\n",
    "glove_dict = glove_model.vocab\n",
    "\n",
    "for key, value in glove_dict.items():\n",
    "    word = key\n",
    "    coef = glove_model[key]\n",
    "    embeddings_index[word] = coef"
   ]
  },
  {
   "cell_type": "code",
   "execution_count": null,
   "id": "stuck-banana",
   "metadata": {},
   "outputs": [],
   "source": [
    "# print(glove_model.vectors[value.index]) \n",
    "# print(glove_model[key]) # array\n",
    "# print(key)# word\n",
    "# print(value.index) # \n",
    "# print(embeddings_index['i'])\n",
    "# print(glove_model['i'])"
   ]
  },
  {
   "cell_type": "code",
   "execution_count": null,
   "id": "alpha-jerusalem",
   "metadata": {},
   "outputs": [],
   "source": []
  },
  {
   "cell_type": "code",
   "execution_count": 17,
   "id": "aggregate-instruction",
   "metadata": {},
   "outputs": [],
   "source": [
    "# create a weight matrix for words in training docs\n",
    "embedding_matrix = np.zeros((size_of_vocabulary, 25))\n",
    "for word, i in word_index.items():\n",
    "    embedding_vector = embeddings_index.get(word)\n",
    "    if embedding_vector is not None:\n",
    "        embedding_matrix[i] = embedding_vector"
   ]
  },
  {
   "cell_type": "markdown",
   "id": "educated-boundary",
   "metadata": {},
   "source": [
    "## Create model"
   ]
  },
  {
   "cell_type": "code",
   "execution_count": 21,
   "id": "advised-citizenship",
   "metadata": {},
   "outputs": [],
   "source": [
    "from tensorflow import keras\n",
    "import tensorflow as tf\n",
    "from keras import layers\n",
    "from keras import Sequential"
   ]
  },
  {
   "cell_type": "code",
   "execution_count": 53,
   "id": "compliant-textbook",
   "metadata": {},
   "outputs": [
    {
     "name": "stdout",
     "output_type": "stream",
     "text": [
      "Model: \"sequential_2\"\n",
      "_________________________________________________________________\n",
      "Layer (type)                 Output Shape              Param #   \n",
      "=================================================================\n",
      "embedding_1 (Embedding)      (None, 1267, 25)          3742725   \n",
      "_________________________________________________________________\n",
      "flatten_1 (Flatten)          (None, 31675)             0         \n",
      "_________________________________________________________________\n",
      "dense_1 (Dense)              (None, 10)                316760    \n",
      "_________________________________________________________________\n",
      "dense_2 (Dense)              (None, 1)                 11        \n",
      "=================================================================\n",
      "Total params: 4,059,496\n",
      "Trainable params: 316,771\n",
      "Non-trainable params: 3,742,725\n",
      "_________________________________________________________________\n",
      "None\n"
     ]
    }
   ],
   "source": [
    "model = Sequential()\n",
    "model.add(layers.Embedding(size_of_vocabulary, 25, weights=[embedding_matrix], input_length=max_length, trainable=False))\n",
    "model.add(layers.Flatten())\n",
    "model.add(layers.Dense(10, activation = 'relu'))\n",
    "model.add(layers.Dense(1, activation='linear'))\n",
    "model.compile(loss='mean_squared_error', optimizer='adam')\n",
    "print(model.summary())"
   ]
  },
  {
   "cell_type": "markdown",
   "id": "intensive-document",
   "metadata": {},
   "source": [
    "## Train model "
   ]
  },
  {
   "cell_type": "code",
   "execution_count": null,
   "id": "naked-charter",
   "metadata": {},
   "outputs": [],
   "source": []
  },
  {
   "cell_type": "code",
   "execution_count": null,
   "id": "figured-thanksgiving",
   "metadata": {},
   "outputs": [
    {
     "name": "stdout",
     "output_type": "stream",
     "text": [
      "Epoch 1/10\n",
      "4896/4896 [==============================] - 91s 19ms/step - loss: 6956546048.0000 - val_loss: 5082462720.0000\n",
      "Epoch 2/10\n",
      "4896/4896 [==============================] - 115s 23ms/step - loss: 4870576128.0000 - val_loss: 4782667776.0000\n",
      "Epoch 3/10\n",
      "4896/4896 [==============================] - 87s 18ms/step - loss: 4726066176.0000 - val_loss: 4718974976.0000\n",
      "Epoch 4/10\n",
      "4896/4896 [==============================] - 85s 17ms/step - loss: 4683018752.0000 - val_loss: 4691695616.0000\n",
      "Epoch 5/10\n",
      "4896/4896 [==============================] - 90s 18ms/step - loss: 4660638208.0000 - val_loss: 4674888192.0000\n",
      "Epoch 6/10\n",
      " 436/4896 [=>............................] - ETA: 1:30 - loss: 4655848960.0000"
     ]
    }
   ],
   "source": [
    "# fit the model\n",
    "history = model.fit(X_train_padded, y_train.values, epochs=10, verbose=1,\n",
    "         validation_data=(X_val_padded, y_val.values))"
   ]
  },
  {
   "cell_type": "markdown",
   "id": "focal-calendar",
   "metadata": {},
   "source": [
    "## Evaluate model "
   ]
  },
  {
   "cell_type": "code",
   "execution_count": 44,
   "id": "surprising-sugar",
   "metadata": {},
   "outputs": [
    {
     "name": "stdout",
     "output_type": "stream",
     "text": [
      "1530/1530 [==============================] - 5s 3ms/step - loss: 5402881024.0000\n",
      "MSE: 5402881024.0\n"
     ]
    }
   ],
   "source": [
    "# evaluate the model\n",
    "loss = model.evaluate(X_test_padded, y_test.values, verbose=1)\n",
    "print('MSE: {}'.format(loss))\n",
    "print('RMSE: {}'.format(np.sqrt(loss)))"
   ]
  },
  {
   "cell_type": "code",
   "execution_count": 45,
   "id": "supreme-acting",
   "metadata": {},
   "outputs": [
    {
     "name": "stdout",
     "output_type": "stream",
     "text": [
      "73504.29255492498\n"
     ]
    }
   ],
   "source": []
  },
  {
   "cell_type": "markdown",
   "id": "manufactured-yesterday",
   "metadata": {},
   "source": [
    "## Prediction"
   ]
  },
  {
   "cell_type": "code",
   "execution_count": 47,
   "id": "responsible-guarantee",
   "metadata": {},
   "outputs": [],
   "source": [
    "y_predict = model.predict(X_test_padded)"
   ]
  },
  {
   "cell_type": "code",
   "execution_count": 50,
   "id": "brave-postage",
   "metadata": {},
   "outputs": [
    {
     "data": {
      "text/plain": [
       "(48954, 2)"
      ]
     },
     "execution_count": 50,
     "metadata": {},
     "output_type": "execute_result"
    }
   ],
   "source": []
  },
  {
   "cell_type": "code",
   "execution_count": 52,
   "id": "illegal-acoustic",
   "metadata": {},
   "outputs": [
    {
     "data": {
      "image/png": "[encoded data removed]",
      "text/plain": [
       "<Figure size 432x432 with 1 Axes>"
      ]
     },
     "metadata": {
      "needs_background": "light"
     },
     "output_type": "display_data"
    }
   ],
   "source": [
    "limits= [0,100000]\n",
    "plt_nr = 10000\n",
    "fig = plt.figure(figsize = (6,6))  \n",
    "ax = fig.add_subplot(1, 1, 1)  \n",
    "ax.plot(y_test.values[0:plt_nr], y_predict[0:plt_nr], 'b.')\n",
    "ax.set_ylabel('Y_prediction')\n",
    "ax.set_xlabel('Y_test')\n",
    "# ax.set_xlim(limits)\n",
    "# ax.set_ylim(limits)\n",
    "plt.grid()\n",
    "plt.show()"
   ]
  }
 ],
 "metadata": {
  "environment": {
   "name": "tf2-gpu.2-3.mnightly-2021-01-20-debian-10-test",
   "type": "gcloud",
   "uri": "gcr.io/deeplearning-platform-release/tf2-gpu.2-3:mnightly-2021-01-20-debian-10-test"
  },
  "kernelspec": {
   "display_name": "Python 3",
   "language": "python",
   "name": "python3"
  },
  "language_info": {
   "codemirror_mode": {
    "name": "ipython",
    "version": 3
   },
   "file_extension": ".py",
   "mimetype": "text/x-python",
   "name": "python",
   "nbconvert_exporter": "python",
   "pygments_lexer": "ipython3",
   "version": "3.7.9"
  }
 },
 "nbformat": 4,
 "nbformat_minor": 5
}
